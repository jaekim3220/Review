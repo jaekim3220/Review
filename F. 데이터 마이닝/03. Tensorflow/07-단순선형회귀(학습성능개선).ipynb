{
 "cells": [
  {
   "cell_type": "markdown",
   "metadata": {},
   "source": [
    "패키지 참조 -> 데이터 셋 준비 -> 데이터 전처리 -> 탐색적 데이터 분석 -> 데이터 셋 분할 -> 모델 개발 -> 학습 결과 평가 -> 학습 결과 적용\n",
    "\n",
    "![res/code.png](res/code.png)\n",
    "\n",
    "분석 프로세스를 진행한 이유와 해당 프로세서를 통해 얻은 결론을 설명\n",
    "- 모든 단계는 목적과 근거를 제시\n",
    "\n",
    ">머신러닝 - 소숫점 처리에 뛰어남"
   ]
  },
  {
   "cell_type": "markdown",
   "metadata": {},
   "source": [
    "# 단순 선형 회귀 (학습성능개선)\n",
    "\n",
    "`텐서플로우의 학습성능을 개선`하기 위해 아래의 기능을 사용할 수 있음\n",
    "\n",
    "1. 데이터 표준화 : 학습률 향상에 도움을 줌\n",
    "2. 콜백함수 : 모델의 학습 방향, 저장 시점, 학습 정지 시점 등에 관한 상황을 모니터링 하기 위한 도구\n",
    "\n",
    "## 데이터 정규화(Normalization, 표준화)\n",
    "\n",
    "### 1) 데이터 정규화의 이해\n",
    "\n",
    "#### 데이터 정규화란?\n",
    "\n",
    "모든 데이터가 동일한 정도의 스케일(중요도)로 반영되도록 해 주는 처리\n",
    "\n",
    "#### 정규화를 해야 하는 이유\n",
    "\n",
    "머신러닝 알고리즘은 데이터가 가진 feature(특성)들을 비교하여 데이터의 패턴을 찾는다.\n",
    "\n",
    "이 때, 데이터가 가진 feature의 스케일이 심하게 차이가 나는 경우 수많은 학습 단계를 거쳐서 최적값에 도달하게 된다.\n",
    "\n",
    "데이터에 정규화 처리를 적용하면 쉽게 최적값에 도달할 수 있으며 학습률을 상대적으로 높여서 사용할 수 있기 때문에 빠르게 훈련시킬 수 있다.\n",
    "\n",
    "> 성능과 속도 개선을 위해 표준화를 진행\n",
    "\n",
    "### 2) 데이터 정규화 방법\n",
    "\n",
    "주로 standardscaler을 사용(상황에 따라서 더 좋은 패키지를 선택)\n",
    "\n",
    "standardscaler은 범위가 아닌 분산 조정\n",
    "\n",
    "minmax는 범위 조정\n",
    "\n",
    "#### 최소-최대 정규화 (Min-Max Normalization)\n",
    "\n",
    "모든 feature에 대해 각각의 최소값 0, 최대값 1로, 그리고 다른 값들은 0과 1 사이의 값으로 변환.\n",
    "\n",
    "예를 들어 어떤 특성의 최소값이 20이고 최대값이 40인 경우, 30이라는 데이터가 있을 경우,\n",
    "20은 `0`, 40은 `1`로 환산되기 때문에 30은 중간치인 `0.5`로 변환됨.\n",
    "\n",
    "## 콜백함수\n",
    "\n",
    "모델의 학습 방향, 저장 시점, 학습 정지 시점 등에 관한 상황을 모니터링하기 위한 도구\n",
    "\n",
    "### 콜백함수 사용 방법\n",
    "\n",
    "#### 콜백 정의\n",
    "\n",
    "```pyhon\n",
    "callbacks = [  콜백1, 콜백2, ... 콜백n  ]\n",
    "```\n",
    "\n",
    "#### 학습을 위한 fit() 함수에서 callbacks 파라미터에 미리 정의한 리스트를 지정\n",
    "\n",
    "```python\n",
    "callbacks = [콜백1, 콜백2, ... , 콜백n]\n",
    "model.fit(x_train, y_train, validation_data = (x_val, y_val), epochs = 500, callbacks = callbacks)\n",
    "```\n",
    "\n",
    "혹은\n",
    "\n",
    "```python\n",
    "model.fit(x_train, y_train, validation_data = (x_val, y_val), epochs = 500, callbacks = [\n",
    "    콜백1, 콜백2, ... , 콜백n\n",
    "])\n",
    "```\n",
    "\n",
    "### 콜백함수 종류\n",
    "\n",
    "#### 1) `EarlyStopping()`\n",
    "\n",
    "모델 학습 시에 지정된 기간 동안 모니터링하는 평가지표에서 더 이상 성능 향상이 일어나지 않은 경우 학습을 스스로 중단\n",
    "\n",
    "EarlyStopping의 patience를 통해 epochs 제한 - epochs가 쓸데없이 많으면 오차 범위가 증가\n",
    "\n",
    "```python\n",
    "EarlyStopping(monitor='평가지표', patience=10, verbose=1)\n",
    "```\n",
    "\n",
    "- `patience` : 지정한 수만큼의 기간에서 평가지표의 향상이 일어나지 않을 경우 학습을 중단 (기간이라 함은 에폭을 의미)\n",
    "예를 들어 patience=`10`일 때, `10`에폭 동안 성능 향상이 일어나지 않으면 학습을 중단. 즉, 10회 이상 성능향상이 발견되지 않으면 중단함\n",
    "- `verbose` : 콜백의 수행 과정 노출 여부를 지정.\n",
    "    * 0: 아무런 표시 하지 않음(기본값)\n",
    "    * 1: 프로그래스바로 표시\n",
    "    * 2: 매 에폭마다 수행과정을 자세하게 출력함.\n",
    "\n",
    "#### 2) `ReduceLROnPlateau()`\n",
    "\n",
    "EarlyStopping 콜백과 같이 patience 인자를 지정하여, 지정된 기간 동안 `평가지표에서 성능 향상이 일어나지 않으면 학습률을 조정하는 콜백`\n",
    "\n",
    "```python\n",
    "ReduceLROnPlateau(monitor='평가지표', factor=0.1, patience=10, min_lr=0, verbose=1)\n",
    "```\n",
    "\n",
    "- `factor` : 학습률 조정에 사용되는 값 (새로운 학습률 = factor * 기존 학습률)\n",
    "- patience: 지정한 수만큼의 기간에서 성능 향상이 일어나지 않을 경우, 학습률을 조정\n",
    "- `min_lr` : 학습률의 하한을 지정\n",
    "- `verbose` : 콜백의 수행 과정 노출 여부를 지정.\n",
    "\n",
    "#### 3) `ModelCheckpoint()`\n",
    "\n",
    "지정한 평가지표를 기준으로 가장 뛰어난 성능을 보여주는 모델을 저장 할 때 사용\n",
    "\n",
    "```python\n",
    "ModelCheckpoint(filepath, monitor='평가지표', verbose=1, save_best_only=True|False, save_weights_only=False)\n",
    "```\n",
    "\n",
    "- `filepath` : 모델의 저장 경로를 지정\n",
    "- `save_best_only` : True인 경우, 가장 성능이 뛰어난 모델만 저장. 그보다 좋지 않은 모델의 경우는 덮어쓰지 않는다.\n",
    "- `save_weights_only` : 모델의 가중치만 저장"
   ]
  },
  {
   "cell_type": "markdown",
   "metadata": {},
   "source": [
    "## #01. 패키지"
   ]
  },
  {
   "cell_type": "code",
   "execution_count": 27,
   "metadata": {},
   "outputs": [],
   "source": [
    "import os\n",
    "import sys\n",
    "sys.path.append('../../')\n",
    "import helper\n",
    "\n",
    "from pandas import read_excel, DataFrame\n",
    "from matplotlib import pyplot as plt\n",
    "import seaborn as sb\n",
    "import numpy as np\n",
    "\n",
    "# 데이터를 훈련용과 테스트용으로 나누는 기능\n",
    "from sklearn.model_selection import train_test_split\n",
    "\n",
    "# 모델을 구성하기위한 객체\n",
    "from tensorflow.keras.models import Sequential\n",
    "# 모델에 학습층을 쌓기 위한 클래스\n",
    "from tensorflow.keras.layers import Dense\n",
    "\n",
    "\n",
    "#-------- 추가 패키지 --------#\n",
    "# 데이터 정규화를 위한 패키지 참조\n",
    "from sklearn.preprocessing import MinMaxScaler\n",
    "\n",
    "# 학습에 대한 콜백함수 참조\n",
    "from tensorflow.keras.callbacks import EarlyStopping\n",
    "from tensorflow.keras.callbacks import ReduceLROnPlateau\n",
    "from tensorflow.keras.callbacks import ModelCheckpoint"
   ]
  },
  {
   "cell_type": "markdown",
   "metadata": {},
   "source": [
    "## #02. 데이터 준비"
   ]
  },
  {
   "cell_type": "code",
   "execution_count": 28,
   "metadata": {},
   "outputs": [
    {
     "data": {
      "text/html": [
       "<div>\n",
       "<style scoped>\n",
       "    .dataframe tbody tr th:only-of-type {\n",
       "        vertical-align: middle;\n",
       "    }\n",
       "\n",
       "    .dataframe tbody tr th {\n",
       "        vertical-align: top;\n",
       "    }\n",
       "\n",
       "    .dataframe thead th {\n",
       "        text-align: right;\n",
       "    }\n",
       "</style>\n",
       "<table border=\"1\" class=\"dataframe\">\n",
       "  <thead>\n",
       "    <tr style=\"text-align: right;\">\n",
       "      <th></th>\n",
       "      <th>speed</th>\n",
       "      <th>dist</th>\n",
       "    </tr>\n",
       "  </thead>\n",
       "  <tbody>\n",
       "    <tr>\n",
       "      <th>0</th>\n",
       "      <td>4</td>\n",
       "      <td>2</td>\n",
       "    </tr>\n",
       "    <tr>\n",
       "      <th>1</th>\n",
       "      <td>4</td>\n",
       "      <td>10</td>\n",
       "    </tr>\n",
       "    <tr>\n",
       "      <th>2</th>\n",
       "      <td>7</td>\n",
       "      <td>4</td>\n",
       "    </tr>\n",
       "    <tr>\n",
       "      <th>3</th>\n",
       "      <td>7</td>\n",
       "      <td>22</td>\n",
       "    </tr>\n",
       "    <tr>\n",
       "      <th>4</th>\n",
       "      <td>8</td>\n",
       "      <td>16</td>\n",
       "    </tr>\n",
       "  </tbody>\n",
       "</table>\n",
       "</div>"
      ],
      "text/plain": [
       "   speed  dist\n",
       "0      4     2\n",
       "1      4    10\n",
       "2      7     4\n",
       "3      7    22\n",
       "4      8    16"
      ]
     },
     "execution_count": 28,
     "metadata": {},
     "output_type": "execute_result"
    }
   ],
   "source": [
    "origin = read_excel('https://data.hossam.kr/E04/cars.xlsx')\n",
    "origin.head()"
   ]
  },
  {
   "cell_type": "markdown",
   "metadata": {},
   "source": [
    "## #03. 데이터 전처리"
   ]
  },
  {
   "cell_type": "markdown",
   "metadata": {},
   "source": [
    "### 결측치 확인"
   ]
  },
  {
   "cell_type": "code",
   "execution_count": 29,
   "metadata": {},
   "outputs": [
    {
     "data": {
      "text/plain": [
       "speed    0\n",
       "dist     0\n",
       "dtype: int64"
      ]
     },
     "execution_count": 29,
     "metadata": {},
     "output_type": "execute_result"
    }
   ],
   "source": [
    "origin.isna().sum()"
   ]
  },
  {
   "cell_type": "markdown",
   "metadata": {},
   "source": [
    "> 결측치 없음"
   ]
  },
  {
   "cell_type": "markdown",
   "metadata": {},
   "source": [
    "## #04. 탐색적 데이터 분석"
   ]
  },
  {
   "cell_type": "markdown",
   "metadata": {},
   "source": [
    "### 기초통계 확인\n",
    "\n",
    "describe"
   ]
  },
  {
   "cell_type": "code",
   "execution_count": 30,
   "metadata": {},
   "outputs": [
    {
     "data": {
      "text/html": [
       "<div>\n",
       "<style scoped>\n",
       "    .dataframe tbody tr th:only-of-type {\n",
       "        vertical-align: middle;\n",
       "    }\n",
       "\n",
       "    .dataframe tbody tr th {\n",
       "        vertical-align: top;\n",
       "    }\n",
       "\n",
       "    .dataframe thead th {\n",
       "        text-align: right;\n",
       "    }\n",
       "</style>\n",
       "<table border=\"1\" class=\"dataframe\">\n",
       "  <thead>\n",
       "    <tr style=\"text-align: right;\">\n",
       "      <th></th>\n",
       "      <th>speed</th>\n",
       "      <th>dist</th>\n",
       "    </tr>\n",
       "  </thead>\n",
       "  <tbody>\n",
       "    <tr>\n",
       "      <th>count</th>\n",
       "      <td>50.000000</td>\n",
       "      <td>50.000000</td>\n",
       "    </tr>\n",
       "    <tr>\n",
       "      <th>mean</th>\n",
       "      <td>15.400000</td>\n",
       "      <td>42.980000</td>\n",
       "    </tr>\n",
       "    <tr>\n",
       "      <th>std</th>\n",
       "      <td>5.287644</td>\n",
       "      <td>25.769377</td>\n",
       "    </tr>\n",
       "    <tr>\n",
       "      <th>min</th>\n",
       "      <td>4.000000</td>\n",
       "      <td>2.000000</td>\n",
       "    </tr>\n",
       "    <tr>\n",
       "      <th>25%</th>\n",
       "      <td>12.000000</td>\n",
       "      <td>26.000000</td>\n",
       "    </tr>\n",
       "    <tr>\n",
       "      <th>50%</th>\n",
       "      <td>15.000000</td>\n",
       "      <td>36.000000</td>\n",
       "    </tr>\n",
       "    <tr>\n",
       "      <th>75%</th>\n",
       "      <td>19.000000</td>\n",
       "      <td>56.000000</td>\n",
       "    </tr>\n",
       "    <tr>\n",
       "      <th>max</th>\n",
       "      <td>25.000000</td>\n",
       "      <td>120.000000</td>\n",
       "    </tr>\n",
       "  </tbody>\n",
       "</table>\n",
       "</div>"
      ],
      "text/plain": [
       "           speed        dist\n",
       "count  50.000000   50.000000\n",
       "mean   15.400000   42.980000\n",
       "std     5.287644   25.769377\n",
       "min     4.000000    2.000000\n",
       "25%    12.000000   26.000000\n",
       "50%    15.000000   36.000000\n",
       "75%    19.000000   56.000000\n",
       "max    25.000000  120.000000"
      ]
     },
     "execution_count": 30,
     "metadata": {},
     "output_type": "execute_result"
    }
   ],
   "source": [
    "origin.describe()"
   ]
  },
  {
   "cell_type": "markdown",
   "metadata": {},
   "source": [
    "### (수정) 산점도 그래프와 추세선 확인\n",
    "\n",
    "산점도, 추세선 확인 이유\n",
    "- 단순선형, 다항식으로 갈지 여부를 결정 -> 곡선인 경우 다항식으로 분석\n",
    "- 즉, 시각화 자료를 통한 차수 결정"
   ]
  },
  {
   "cell_type": "code",
   "execution_count": 31,
   "metadata": {},
   "outputs": [
    {
     "data": {
      "image/png": "[encoded data removed]",
      "text/plain": [
       "<Figure size 1000x500 with 1 Axes>"
      ]
     },
     "metadata": {},
     "output_type": "display_data"
    }
   ],
   "source": [
    "plt.rcParams[\"font.family\"] = 'Malgun Gothic'\n",
    "plt.rcParams[\"font.size\"] = 16\n",
    "plt.rcParams['axes.unicode_minus'] = False\n",
    "\n",
    "plt.figure(figsize=(10, 5))\n",
    "sb.regplot(data=origin, x='speed', y='dist', color='#ff6600')\n",
    "plt.grid()\n",
    "\n",
    "plt.show()\n",
    "plt.close()"
   ]
  },
  {
   "cell_type": "markdown",
   "metadata": {},
   "source": [
    "> 곡선보다는 `선형 분포(직선)`에 더 가까우므로 `단순선형회귀모델`을 적용\n",
    "\n",
    "> 데이터의 범위는 `0~1` 사이로 변화했지만 전체적인 상관관계는 변하지 않았음을 알 수 있다."
   ]
  },
  {
   "cell_type": "markdown",
   "metadata": {},
   "source": [
    "## #05. 데이터셋 분할"
   ]
  },
  {
   "cell_type": "markdown",
   "metadata": {},
   "source": [
    "### 1. 랜덤시드 고정"
   ]
  },
  {
   "cell_type": "code",
   "execution_count": 32,
   "metadata": {},
   "outputs": [],
   "source": [
    "np.random.seed(777)"
   ]
  },
  {
   "cell_type": "markdown",
   "metadata": {},
   "source": [
    "### 2. 훈련 데이터(독립변수)와 레이블(종속변수) 구분하기\n",
    "\n",
    "데이터프레임은 2차원 형식"
   ]
  },
  {
   "cell_type": "code",
   "execution_count": 33,
   "metadata": {},
   "outputs": [
    {
     "name": "stdout",
     "output_type": "stream",
     "text": [
      "훈련데이터 크기 : (50, 1) / 레이블 크기 : (50, 1)\n"
     ]
    }
   ],
   "source": [
    "# (행 수, 열 수)\n",
    "x = origin.drop(['dist'], axis=1)\n",
    "y = origin[['dist']]\n",
    "print(\"훈련데이터 크기 :\", x.shape, \"/ 레이블 크기 :\", y.shape)"
   ]
  },
  {
   "cell_type": "markdown",
   "metadata": {},
   "source": [
    "### (추가) 데이터 정규화(표준화) 수행\n",
    "\n",
    "표준화는 2차원\n",
    "\n",
    "차후 학습 결과 적용에서 스케일링 데이터를 사용해야하기 때문에 독립/종속 변수를 따로 스케일링"
   ]
  },
  {
   "cell_type": "markdown",
   "metadata": {},
   "source": [
    "#### 독립변수 표준화"
   ]
  },
  {
   "cell_type": "code",
   "execution_count": 34,
   "metadata": {},
   "outputs": [
    {
     "data": {
      "text/plain": [
       "array([[0.        ],\n",
       "       [0.        ],\n",
       "       [0.14285714],\n",
       "       [0.14285714],\n",
       "       [0.19047619],\n",
       "       [0.23809524],\n",
       "       [0.28571429],\n",
       "       [0.28571429],\n",
       "       [0.28571429],\n",
       "       [0.33333333],\n",
       "       [0.33333333],\n",
       "       [0.38095238],\n",
       "       [0.38095238],\n",
       "       [0.38095238],\n",
       "       [0.38095238],\n",
       "       [0.42857143],\n",
       "       [0.42857143],\n",
       "       [0.42857143],\n",
       "       [0.42857143],\n",
       "       [0.47619048],\n",
       "       [0.47619048],\n",
       "       [0.47619048],\n",
       "       [0.47619048],\n",
       "       [0.52380952],\n",
       "       [0.52380952],\n",
       "       [0.52380952],\n",
       "       [0.57142857],\n",
       "       [0.57142857],\n",
       "       [0.61904762],\n",
       "       [0.61904762],\n",
       "       [0.61904762],\n",
       "       [0.66666667],\n",
       "       [0.66666667],\n",
       "       [0.66666667],\n",
       "       [0.66666667],\n",
       "       [0.71428571],\n",
       "       [0.71428571],\n",
       "       [0.71428571],\n",
       "       [0.76190476],\n",
       "       [0.76190476],\n",
       "       [0.76190476],\n",
       "       [0.76190476],\n",
       "       [0.76190476],\n",
       "       [0.85714286],\n",
       "       [0.9047619 ],\n",
       "       [0.95238095],\n",
       "       [0.95238095],\n",
       "       [0.95238095],\n",
       "       [0.95238095],\n",
       "       [1.        ]])"
      ]
     },
     "execution_count": 34,
     "metadata": {},
     "output_type": "execute_result"
    }
   ],
   "source": [
    "x_scaler = MinMaxScaler()\n",
    "x_scale = x_scaler.fit_transform(x)\n",
    "x_scale"
   ]
  },
  {
   "cell_type": "markdown",
   "metadata": {},
   "source": [
    "#### 독립변수 표준화"
   ]
  },
  {
   "cell_type": "code",
   "execution_count": 35,
   "metadata": {},
   "outputs": [
    {
     "data": {
      "text/plain": [
       "array([[0.        ],\n",
       "       [0.06779661],\n",
       "       [0.01694915],\n",
       "       [0.16949153],\n",
       "       [0.11864407],\n",
       "       [0.06779661],\n",
       "       [0.13559322],\n",
       "       [0.20338983],\n",
       "       [0.27118644],\n",
       "       [0.12711864],\n",
       "       [0.22033898],\n",
       "       [0.10169492],\n",
       "       [0.15254237],\n",
       "       [0.18644068],\n",
       "       [0.22033898],\n",
       "       [0.20338983],\n",
       "       [0.27118644],\n",
       "       [0.27118644],\n",
       "       [0.37288136],\n",
       "       [0.20338983],\n",
       "       [0.28813559],\n",
       "       [0.49152542],\n",
       "       [0.66101695],\n",
       "       [0.15254237],\n",
       "       [0.20338983],\n",
       "       [0.44067797],\n",
       "       [0.25423729],\n",
       "       [0.3220339 ],\n",
       "       [0.25423729],\n",
       "       [0.3220339 ],\n",
       "       [0.40677966],\n",
       "       [0.33898305],\n",
       "       [0.45762712],\n",
       "       [0.62711864],\n",
       "       [0.69491525],\n",
       "       [0.28813559],\n",
       "       [0.37288136],\n",
       "       [0.55932203],\n",
       "       [0.25423729],\n",
       "       [0.38983051],\n",
       "       [0.42372881],\n",
       "       [0.45762712],\n",
       "       [0.52542373],\n",
       "       [0.54237288],\n",
       "       [0.44067797],\n",
       "       [0.57627119],\n",
       "       [0.76271186],\n",
       "       [0.77118644],\n",
       "       [1.        ],\n",
       "       [0.70338983]])"
      ]
     },
     "execution_count": 35,
     "metadata": {},
     "output_type": "execute_result"
    }
   ],
   "source": [
    "y_scaler = MinMaxScaler()\n",
    "y_scale = y_scaler.fit_transform(y)\n",
    "y_scale"
   ]
  },
  {
   "cell_type": "markdown",
   "metadata": {},
   "source": [
    "### 3. 훈련 데이터와 검증 데이터로 분할"
   ]
  },
  {
   "cell_type": "code",
   "execution_count": 36,
   "metadata": {},
   "outputs": [
    {
     "name": "stdout",
     "output_type": "stream",
     "text": [
      "훈련용 데이터셋 크기 : 35, 검증용 데이터셋 크기 : 15\n"
     ]
    }
   ],
   "source": [
    "x_train, x_test, y_train, y_test = train_test_split(x_scale, y_scale, test_size = 0.3, random_state = 777)\n",
    "print(\"훈련용 데이터셋 크기 : %d, 검증용 데이터셋 크기 : %d\" % (len(x_train), len(x_test)))"
   ]
  },
  {
   "cell_type": "code",
   "execution_count": 37,
   "metadata": {},
   "outputs": [
    {
     "name": "stdout",
     "output_type": "stream",
     "text": [
      "y_test : <class 'numpy.ndarray'> / x_test : <class 'numpy.ndarray'>\n"
     ]
    }
   ],
   "source": [
    "# 본인 추가 - 객체 확인\n",
    "print(\"y_test :\",type(y_test), \"/\", \"x_test :\", type(x_test))"
   ]
  },
  {
   "cell_type": "markdown",
   "metadata": {},
   "source": [
    "## #06. 모델 개발"
   ]
  },
  {
   "cell_type": "markdown",
   "metadata": {},
   "source": [
    "### 1. 모델 정의\n",
    "\n",
    "- input_shape은 독립변수 수\n",
    "- Dense 신경망 개수의 수에 따라서 모델의 성능에 차이가 발생\n",
    "    - 직감으로 맞춤(다른 방법 없음) 보통 16 또는 32 이상\n",
    "    - 최적의 값을 직접 탐색(단, 너무 크면 컴퓨터 다운)\n",
    "- activation은 모델과 분석 종류에 따라서 다름 \n",
    "    - 보통은 relu, 분류는 sigmoid, 회귀는 linear\n",
    "- optimizer은 모르면 Adam 사용\n",
    "- epochs는 많아도 크게 상관이 없음(단, 너무 크면 오래 걸림)\n",
    "- 2차항을 하고 싶다면 sklearn으로 2차항 생성 후 Sequential에 입력\n",
    "\n",
    "| 구분 | 모델 | 활성화 함수 | 옵티마이저 | 손실함수 | 평가지표 | 대표예제 |\n",
    "|--|--|--|--|--|--|--|\n",
    "| 논리연산 | 단층퍼셉트론 | linear | SGD | mse | acc | OR, AND Gate |\n",
    "| 논리연산 | 다층퍼셉트론 | relu, sigmoid | RMSprop | mse | acc | XOR Gate |\n",
    "| 회귀 | 단순선형회귀 | relu, linear | adam | mse | mae | |\n",
    "| 회귀 | 다중선형회귀 | relu, relu, linear | adam | mse | ase | 보스턴 집값 예측 |\n",
    "| 분류 | 이항분류(로지스틱 회귀) | [relu,] sigmoid | rmsporp | binary_crossentropy | acc | 타이타닉 생존률 예측 |\n",
    "| 분류 | 다항분류(소프트맥스 회귀) | [relu, ...] softmax | adam 혹은 rmsprop | categorical_crossentropy | acc | iris 분류 |"
   ]
  },
  {
   "cell_type": "code",
   "execution_count": 38,
   "metadata": {},
   "outputs": [
    {
     "name": "stdout",
     "output_type": "stream",
     "text": [
      "Model: \"sequential_1\"\n",
      "_________________________________________________________________\n",
      " Layer (type)                Output Shape              Param #   \n",
      "=================================================================\n",
      " dense_2 (Dense)             (None, 32)                64        \n",
      "                                                                 \n",
      " dense_3 (Dense)             (None, 1)                 33        \n",
      "                                                                 \n",
      "=================================================================\n",
      "Total params: 97 (388.00 Byte)\n",
      "Trainable params: 97 (388.00 Byte)\n",
      "Non-trainable params: 0 (0.00 Byte)\n",
      "_________________________________________________________________\n"
     ]
    }
   ],
   "source": [
    "model = Sequential()\n",
    "# 1차원의 데이터를 입력으로 받고, 32개의 출력을 가지는 첫 번째 Dense 층\n",
    "model.add(Dense(32, activation = 'relu', input_shape = (1, )))\n",
    "# 하나의 값을 출력\n",
    "# -> 정답의 범위가 정해지지 않기 때문에 활성화 함수는 linear\n",
    "# -> linear는 기본값이므로 생략 가능함.\n",
    "model.add(Dense(1, activation='linear'))\n",
    "\n",
    "model.compile(optimizer = 'adam', loss = 'mse', metrics = ['mae'])\n",
    "model.summary()"
   ]
  },
  {
   "cell_type": "markdown",
   "metadata": {},
   "source": [
    "### (수정) 학습하기\n",
    "\n",
    "- epochs는 많아도 크게 상관이 없음(단, 너무 크면 오래 걸리고 오차가 증가)\n",
    "    - callback을 사용해 모델의 학습 방향, 저장 시점, 학습 정지 시점 등에 관한 상황을 모니터링\n",
    "    - EarlyStopping 콜백과 같이 patience 인자를 지정하여, 지정된 기간 동안 `평가지표에서 성능 향상이 일어나지 않으면 학습률을 조정하는 콜백`\n",
    "    - ReduceLROnPlateau EarlyStopping 콜백과 같이 patience 인자를 지정하여, 지정된 기간 동안 `평가지표에서 성능 향상이 일어나지 않으면 학습률을 조정하는 콜백`\n",
    "    - ModelCheckpoint 지정한 평가지표를 기준으로 가장 뛰어난 성능을 보여주는 모델을 저장 할 때 사용"
   ]
  },
  {
   "cell_type": "code",
   "execution_count": 39,
   "metadata": {},
   "outputs": [
    {
     "name": "stdout",
     "output_type": "stream",
     "text": [
      "Epoch 1/500\n",
      "1/2 [==============>...............] - ETA: 3s - loss: 0.3271 - mae: 0.5007\n",
      "Epoch 1: val_loss improved from inf to 0.20214, saving model to D:\\tensorflow_checkpoint\\model07-cp-0001-ckpt\n"
     ]
    },
    {
     "name": "stdout",
     "output_type": "stream",
     "text": [
      "2/2 [==============================] - 9s 5s/step - loss: 0.3114 - mae: 0.4856 - val_loss: 0.2021 - val_mae: 0.3954 - lr: 0.0010\n",
      "Epoch 2/500\n",
      "1/2 [==============>...............] - ETA: 0s - loss: 0.2902 - mae: 0.4640\n",
      "Epoch 2: val_loss improved from 0.20214 to 0.18686, saving model to D:\\tensorflow_checkpoint\\model07-cp-0002-ckpt\n",
      "2/2 [==============================] - 3s 3s/step - loss: 0.2906 - mae: 0.4662 - val_loss: 0.1869 - val_mae: 0.3783 - lr: 0.0010\n",
      "Epoch 3/500\n",
      "1/2 [==============>...............] - ETA: 0s - loss: 0.2827 - mae: 0.4553\n",
      "Epoch 3: val_loss improved from 0.18686 to 0.17225, saving model to D:\\tensorflow_checkpoint\\model07-cp-0003-ckpt\n",
      "2/2 [==============================] - 3s 3s/step - loss: 0.2712 - mae: 0.4469 - val_loss: 0.1722 - val_mae: 0.3612 - lr: 0.0010\n",
      "Epoch 4/500\n",
      "1/2 [==============>...............] - ETA: 0s - loss: 0.2486 - mae: 0.4239\n",
      "Epoch 4: val_loss improved from 0.17225 to 0.15830, saving model to D:\\tensorflow_checkpoint\\model07-cp-0004-ckpt\n",
      "2/2 [==============================] - 3s 3s/step - loss: 0.2518 - mae: 0.4273 - val_loss: 0.1583 - val_mae: 0.3441 - lr: 0.0010\n",
      "Epoch 5/500\n",
      "1/2 [==============>...............] - ETA: 0s - loss: 0.2509 - mae: 0.4276\n",
      "Epoch 5: val_loss improved from 0.15830 to 0.14526, saving model to D:\\tensorflow_checkpoint\\model07-cp-0005-ckpt\n",
      "2/2 [==============================] - 3s 3s/step - loss: 0.2342 - mae: 0.4083 - val_loss: 0.1453 - val_mae: 0.3274 - lr: 0.0010\n",
      "Epoch 6/500\n",
      "1/2 [==============>...............] - ETA: 0s - loss: 0.2105 - mae: 0.3843\n",
      "Epoch 6: val_loss improved from 0.14526 to 0.13306, saving model to D:\\tensorflow_checkpoint\\model07-cp-0006-ckpt\n",
      "2/2 [==============================] - 3s 3s/step - loss: 0.2165 - mae: 0.3899 - val_loss: 0.1331 - val_mae: 0.3109 - lr: 0.0010\n",
      "Epoch 7/500\n",
      "1/2 [==============>...............] - ETA: 0s - loss: 0.2164 - mae: 0.3897\n",
      "Epoch 7: val_loss improved from 0.13306 to 0.12179, saving model to D:\\tensorflow_checkpoint\\model07-cp-0007-ckpt\n",
      "2/2 [==============================] - 3s 3s/step - loss: 0.2011 - mae: 0.3720 - val_loss: 0.1218 - val_mae: 0.2950 - lr: 0.0010\n",
      "Epoch 8/500\n",
      "1/2 [==============>...............] - ETA: 0s - loss: 0.1967 - mae: 0.3668\n",
      "Epoch 8: val_loss improved from 0.12179 to 0.11162, saving model to D:\\tensorflow_checkpoint\\model07-cp-0008-ckpt\n",
      "2/2 [==============================] - 3s 3s/step - loss: 0.1859 - mae: 0.3544 - val_loss: 0.1116 - val_mae: 0.2798 - lr: 0.0010\n",
      "Epoch 9/500\n",
      "1/2 [==============>...............] - ETA: 0s - loss: 0.1844 - mae: 0.3507\n",
      "Epoch 9: val_loss improved from 0.11162 to 0.10227, saving model to D:\\tensorflow_checkpoint\\model07-cp-0009-ckpt\n",
      "2/2 [==============================] - 3s 3s/step - loss: 0.1721 - mae: 0.3375 - val_loss: 0.1023 - val_mae: 0.2651 - lr: 0.0010\n",
      "Epoch 10/500\n",
      "1/2 [==============>...............] - ETA: 0s - loss: 0.1683 - mae: 0.3321\n",
      "Epoch 10: val_loss improved from 0.10227 to 0.09382, saving model to D:\\tensorflow_checkpoint\\model07-cp-0010-ckpt\n",
      "2/2 [==============================] - 3s 3s/step - loss: 0.1594 - mae: 0.3215 - val_loss: 0.0938 - val_mae: 0.2510 - lr: 0.0010\n",
      "Epoch 11/500\n",
      "1/2 [==============>...............] - ETA: 0s - loss: 0.1595 - mae: 0.3233\n",
      "Epoch 11: val_loss improved from 0.09382 to 0.08610, saving model to D:\\tensorflow_checkpoint\\model07-cp-0011-ckpt\n",
      "2/2 [==============================] - 3s 3s/step - loss: 0.1478 - mae: 0.3065 - val_loss: 0.0861 - val_mae: 0.2373 - lr: 0.0010\n",
      "Epoch 12/500\n",
      "1/2 [==============>...............] - ETA: 0s - loss: 0.1425 - mae: 0.3002\n",
      "Epoch 12: val_loss improved from 0.08610 to 0.07900, saving model to D:\\tensorflow_checkpoint\\model07-cp-0012-ckpt\n",
      "2/2 [==============================] - 3s 3s/step - loss: 0.1370 - mae: 0.2920 - val_loss: 0.0790 - val_mae: 0.2239 - lr: 0.0010\n",
      "Epoch 13/500\n",
      "1/2 [==============>...............] - ETA: 0s - loss: 0.1366 - mae: 0.2893\n",
      "Epoch 13: val_loss improved from 0.07900 to 0.07243, saving model to D:\\tensorflow_checkpoint\\model07-cp-0013-ckpt\n",
      "2/2 [==============================] - 3s 3s/step - loss: 0.1273 - mae: 0.2781 - val_loss: 0.0724 - val_mae: 0.2121 - lr: 0.0010\n",
      "Epoch 14/500\n",
      "1/2 [==============>...............] - ETA: 0s - loss: 0.1151 - mae: 0.2572\n",
      "Epoch 14: val_loss improved from 0.07243 to 0.06626, saving model to D:\\tensorflow_checkpoint\\model07-cp-0014-ckpt\n",
      "2/2 [==============================] - 3s 3s/step - loss: 0.1178 - mae: 0.2645 - val_loss: 0.0663 - val_mae: 0.2007 - lr: 0.0010\n",
      "Epoch 15/500\n",
      "1/2 [==============>...............] - ETA: 0s - loss: 0.1100 - mae: 0.2507\n",
      "Epoch 15: val_loss improved from 0.06626 to 0.06039, saving model to D:\\tensorflow_checkpoint\\model07-cp-0015-ckpt\n",
      "2/2 [==============================] - 3s 3s/step - loss: 0.1092 - mae: 0.2516 - val_loss: 0.0604 - val_mae: 0.1903 - lr: 0.0010\n",
      "Epoch 16/500\n",
      "1/2 [==============>...............] - ETA: 0s - loss: 0.1015 - mae: 0.2327\n",
      "Epoch 16: val_loss improved from 0.06039 to 0.05492, saving model to D:\\tensorflow_checkpoint\\model07-cp-0016-ckpt\n",
      "2/2 [==============================] - 3s 3s/step - loss: 0.1008 - mae: 0.2383 - val_loss: 0.0549 - val_mae: 0.1803 - lr: 0.0010\n",
      "Epoch 17/500\n",
      "1/2 [==============>...............] - ETA: 0s - loss: 0.0669 - mae: 0.1933\n",
      "Epoch 17: val_loss improved from 0.05492 to 0.04970, saving model to D:\\tensorflow_checkpoint\\model07-cp-0017-ckpt\n",
      "2/2 [==============================] - 3s 3s/step - loss: 0.0924 - mae: 0.2257 - val_loss: 0.0497 - val_mae: 0.1714 - lr: 0.0010\n",
      "Epoch 18/500\n",
      "1/2 [==============>...............] - ETA: 0s - loss: 0.0727 - mae: 0.2070\n",
      "Epoch 18: val_loss improved from 0.04970 to 0.04482, saving model to D:\\tensorflow_checkpoint\\model07-cp-0018-ckpt\n",
      "2/2 [==============================] - 3s 3s/step - loss: 0.0851 - mae: 0.2144 - val_loss: 0.0448 - val_mae: 0.1626 - lr: 0.0010\n",
      "Epoch 19/500\n",
      "1/2 [==============>...............] - ETA: 0s - loss: 0.0758 - mae: 0.2009\n",
      "Epoch 19: val_loss improved from 0.04482 to 0.04055, saving model to D:\\tensorflow_checkpoint\\model07-cp-0019-ckpt\n",
      "2/2 [==============================] - 3s 3s/step - loss: 0.0779 - mae: 0.2020 - val_loss: 0.0405 - val_mae: 0.1545 - lr: 0.0010\n",
      "Epoch 20/500\n",
      "1/2 [==============>...............] - ETA: 0s - loss: 0.0679 - mae: 0.1825\n",
      "Epoch 20: val_loss improved from 0.04055 to 0.03684, saving model to D:\\tensorflow_checkpoint\\model07-cp-0020-ckpt\n",
      "2/2 [==============================] - 3s 3s/step - loss: 0.0712 - mae: 0.1893 - val_loss: 0.0368 - val_mae: 0.1485 - lr: 0.0010\n",
      "Epoch 21/500\n",
      "1/2 [==============>...............] - ETA: 0s - loss: 0.0665 - mae: 0.1810\n",
      "Epoch 21: val_loss improved from 0.03684 to 0.03365, saving model to D:\\tensorflow_checkpoint\\model07-cp-0021-ckpt\n",
      "2/2 [==============================] - 3s 3s/step - loss: 0.0654 - mae: 0.1794 - val_loss: 0.0336 - val_mae: 0.1434 - lr: 0.0010\n",
      "Epoch 22/500\n",
      "1/2 [==============>...............] - ETA: 0s - loss: 0.0595 - mae: 0.1705\n",
      "Epoch 22: val_loss improved from 0.03365 to 0.03100, saving model to D:\\tensorflow_checkpoint\\model07-cp-0022-ckpt\n",
      "2/2 [==============================] - 3s 3s/step - loss: 0.0602 - mae: 0.1711 - val_loss: 0.0310 - val_mae: 0.1386 - lr: 0.0010\n",
      "Epoch 23/500\n",
      "1/2 [==============>...............] - ETA: 0s - loss: 0.0609 - mae: 0.1768\n",
      "Epoch 23: val_loss improved from 0.03100 to 0.02888, saving model to D:\\tensorflow_checkpoint\\model07-cp-0023-ckpt\n",
      "2/2 [==============================] - 4s 4s/step - loss: 0.0559 - mae: 0.1649 - val_loss: 0.0289 - val_mae: 0.1343 - lr: 0.0010\n",
      "Epoch 24/500\n",
      "1/2 [==============>...............] - ETA: 0s - loss: 0.0499 - mae: 0.1559\n",
      "Epoch 24: val_loss improved from 0.02888 to 0.02719, saving model to D:\\tensorflow_checkpoint\\model07-cp-0024-ckpt\n",
      "2/2 [==============================] - 10s 10s/step - loss: 0.0519 - mae: 0.1602 - val_loss: 0.0272 - val_mae: 0.1303 - lr: 0.0010\n",
      "Epoch 25/500\n",
      "1/2 [==============>...............] - ETA: 0s - loss: 0.0513 - mae: 0.1597\n",
      "Epoch 25: val_loss improved from 0.02719 to 0.02580, saving model to D:\\tensorflow_checkpoint\\model07-cp-0025-ckpt\n",
      "2/2 [==============================] - 4s 4s/step - loss: 0.0488 - mae: 0.1567 - val_loss: 0.0258 - val_mae: 0.1264 - lr: 0.0010\n",
      "Epoch 26/500\n",
      "1/2 [==============>...............] - ETA: 0s - loss: 0.0442 - mae: 0.1507\n",
      "Epoch 26: val_loss improved from 0.02580 to 0.02468, saving model to D:\\tensorflow_checkpoint\\model07-cp-0026-ckpt\n",
      "2/2 [==============================] - 4s 4s/step - loss: 0.0459 - mae: 0.1541 - val_loss: 0.0247 - val_mae: 0.1233 - lr: 0.0010\n",
      "Epoch 27/500\n",
      "1/2 [==============>...............] - ETA: 0s - loss: 0.0401 - mae: 0.1416\n",
      "Epoch 27: val_loss improved from 0.02468 to 0.02375, saving model to D:\\tensorflow_checkpoint\\model07-cp-0027-ckpt\n",
      "2/2 [==============================] - 4s 4s/step - loss: 0.0434 - mae: 0.1514 - val_loss: 0.0237 - val_mae: 0.1221 - lr: 0.0010\n",
      "Epoch 28/500\n",
      "1/2 [==============>...............] - ETA: 0s - loss: 0.0401 - mae: 0.1495\n",
      "Epoch 28: val_loss improved from 0.02375 to 0.02302, saving model to D:\\tensorflow_checkpoint\\model07-cp-0028-ckpt\n",
      "2/2 [==============================] - 4s 4s/step - loss: 0.0413 - mae: 0.1496 - val_loss: 0.0230 - val_mae: 0.1209 - lr: 0.0010\n",
      "Epoch 29/500\n",
      "1/2 [==============>...............] - ETA: 0s - loss: 0.0414 - mae: 0.1498\n",
      "Epoch 29: val_loss improved from 0.02302 to 0.02252, saving model to D:\\tensorflow_checkpoint\\model07-cp-0029-ckpt\n",
      "2/2 [==============================] - 3s 3s/step - loss: 0.0395 - mae: 0.1473 - val_loss: 0.0225 - val_mae: 0.1201 - lr: 0.0010\n",
      "Epoch 30/500\n",
      "1/2 [==============>...............] - ETA: 0s - loss: 0.0374 - mae: 0.1421\n",
      "Epoch 30: val_loss improved from 0.02252 to 0.02222, saving model to D:\\tensorflow_checkpoint\\model07-cp-0030-ckpt\n",
      "2/2 [==============================] - 4s 4s/step - loss: 0.0378 - mae: 0.1468 - val_loss: 0.0222 - val_mae: 0.1204 - lr: 0.0010\n",
      "Epoch 31/500\n",
      "1/2 [==============>...............] - ETA: 0s - loss: 0.0366 - mae: 0.1442\n",
      "Epoch 31: val_loss improved from 0.02222 to 0.02206, saving model to D:\\tensorflow_checkpoint\\model07-cp-0031-ckpt\n",
      "2/2 [==============================] - 4s 4s/step - loss: 0.0365 - mae: 0.1464 - val_loss: 0.0221 - val_mae: 0.1206 - lr: 0.0010\n",
      "Epoch 32/500\n",
      "1/2 [==============>...............] - ETA: 0s - loss: 0.0365 - mae: 0.1459\n",
      "Epoch 32: val_loss improved from 0.02206 to 0.02201, saving model to D:\\tensorflow_checkpoint\\model07-cp-0032-ckpt\n",
      "2/2 [==============================] - 4s 4s/step - loss: 0.0356 - mae: 0.1465 - val_loss: 0.0220 - val_mae: 0.1211 - lr: 0.0010\n",
      "Epoch 33/500\n",
      "1/2 [==============>...............] - ETA: 0s - loss: 0.0347 - mae: 0.1432\n",
      "Epoch 33: val_loss did not improve from 0.02201\n",
      "2/2 [==============================] - 0s 203ms/step - loss: 0.0348 - mae: 0.1460 - val_loss: 0.0220 - val_mae: 0.1220 - lr: 0.0010\n",
      "Epoch 34/500\n",
      "1/2 [==============>...............] - ETA: 0s - loss: 0.0349 - mae: 0.1460\n",
      "Epoch 34: ReduceLROnPlateau reducing learning rate to 0.0005000000237487257.\n",
      "\n",
      "Epoch 34: val_loss did not improve from 0.02201\n",
      "2/2 [==============================] - 0s 263ms/step - loss: 0.0341 - mae: 0.1457 - val_loss: 0.0221 - val_mae: 0.1229 - lr: 0.0010\n",
      "Epoch 35/500\n",
      "1/2 [==============>...............] - ETA: 0s - loss: 0.0330 - mae: 0.1417\n",
      "Epoch 35: val_loss did not improve from 0.02201\n",
      "2/2 [==============================] - 0s 235ms/step - loss: 0.0337 - mae: 0.1459 - val_loss: 0.0221 - val_mae: 0.1233 - lr: 5.0000e-04\n",
      "Epoch 36/500\n",
      "1/2 [==============>...............] - ETA: 0s - loss: 0.0330 - mae: 0.1418\n",
      "Epoch 36: val_loss did not improve from 0.02201\n",
      "2/2 [==============================] - 0s 297ms/step - loss: 0.0335 - mae: 0.1460 - val_loss: 0.0221 - val_mae: 0.1236 - lr: 5.0000e-04\n",
      "Epoch 37/500\n",
      "1/2 [==============>...............] - ETA: 0s - loss: 0.0347 - mae: 0.1473\n",
      "Epoch 37: ReduceLROnPlateau reducing learning rate to 0.0002500000118743628.\n",
      "\n",
      "Epoch 37: val_loss did not improve from 0.02201\n",
      "2/2 [==============================] - 0s 429ms/step - loss: 0.0333 - mae: 0.1460 - val_loss: 0.0221 - val_mae: 0.1238 - lr: 5.0000e-04\n",
      "Epoch 38/500\n",
      "1/2 [==============>...............] - ETA: 0s - loss: 0.0352 - mae: 0.1512\n",
      "Epoch 38: val_loss did not improve from 0.02201\n",
      "2/2 [==============================] - 0s 243ms/step - loss: 0.0331 - mae: 0.1459 - val_loss: 0.0222 - val_mae: 0.1238 - lr: 2.5000e-04\n",
      "Epoch 39/500\n",
      "1/2 [==============>...............] - ETA: 0s - loss: 0.0312 - mae: 0.1416\n",
      "Epoch 39: val_loss did not improve from 0.02201\n",
      "2/2 [==============================] - 0s 205ms/step - loss: 0.0330 - mae: 0.1459 - val_loss: 0.0222 - val_mae: 0.1239 - lr: 2.5000e-04\n",
      "Epoch 40/500\n",
      "1/2 [==============>...............] - ETA: 0s - loss: 0.0308 - mae: 0.1373\n",
      "Epoch 40: ReduceLROnPlateau reducing learning rate to 0.0001250000059371814.\n",
      "\n",
      "Epoch 40: val_loss did not improve from 0.02201\n",
      "2/2 [==============================] - 0s 287ms/step - loss: 0.0330 - mae: 0.1458 - val_loss: 0.0222 - val_mae: 0.1240 - lr: 2.5000e-04\n",
      "Epoch 41/500\n",
      "1/2 [==============>...............] - ETA: 0s - loss: 0.0329 - mae: 0.1477\n",
      "Epoch 41: val_loss did not improve from 0.02201\n",
      "2/2 [==============================] - 0s 271ms/step - loss: 0.0329 - mae: 0.1458 - val_loss: 0.0222 - val_mae: 0.1241 - lr: 1.2500e-04\n",
      "Epoch 42/500\n",
      "1/2 [==============>...............] - ETA: 0s - loss: 0.0313 - mae: 0.1403\n",
      "Epoch 42: val_loss did not improve from 0.02201\n",
      "2/2 [==============================] - 0s 364ms/step - loss: 0.0329 - mae: 0.1459 - val_loss: 0.0222 - val_mae: 0.1242 - lr: 1.2500e-04\n",
      "Epoch 42: early stopping\n"
     ]
    }
   ],
   "source": [
    "# result = model.fit(x_train, y_train, epochs=500, validation_data=(x_test, y_test))    #기존 코드\n",
    "\n",
    "# 파일이 저장될 경로(폴더) 지정 이때 한글, 공백, 점(.)이 포함된 경우 에러가 발생\n",
    "checkpoint_path = os.path.join(\"D:\\\\tensorflow_checkpoint\\\\model07-cp-{epoch:04d}-ckpt\")\n",
    "\n",
    "result = model.fit(x_train, y_train, epochs=500, validation_data=(x_test, y_test), callbacks=[\n",
    "    EarlyStopping(monitor='val_loss', patience=10, verbose=1),\n",
    "    ReduceLROnPlateau(monitor= \"val_loss\", patience=3, factor = 0.5, min_lr=0.0001, verbose=1),\n",
    "    ModelCheckpoint(filepath = checkpoint_path, monitor = 'val_loss', verbose=1, save_best_only = True)\n",
    "    # ModelCheckpoint(filepath = 'reg_check_point.h5', monitor = 'val_loss', verbose=1, save_best_only = True)\n",
    "])"
   ]
  },
  {
   "cell_type": "markdown",
   "metadata": {},
   "source": [
    "### 학습결과 시각화"
   ]
  },
  {
   "cell_type": "code",
   "execution_count": 40,
   "metadata": {},
   "outputs": [
    {
     "data": {
      "text/html": [
       "<div>\n",
       "<style scoped>\n",
       "    .dataframe tbody tr th:only-of-type {\n",
       "        vertical-align: middle;\n",
       "    }\n",
       "\n",
       "    .dataframe tbody tr th {\n",
       "        vertical-align: top;\n",
       "    }\n",
       "\n",
       "    .dataframe thead th {\n",
       "        text-align: right;\n",
       "    }\n",
       "</style>\n",
       "<table border=\"1\" class=\"dataframe\">\n",
       "  <thead>\n",
       "    <tr style=\"text-align: right;\">\n",
       "      <th></th>\n",
       "      <th>loss</th>\n",
       "      <th>mae</th>\n",
       "      <th>val_loss</th>\n",
       "      <th>val_mae</th>\n",
       "      <th>lr</th>\n",
       "    </tr>\n",
       "    <tr>\n",
       "      <th>epochs</th>\n",
       "      <th></th>\n",
       "      <th></th>\n",
       "      <th></th>\n",
       "      <th></th>\n",
       "      <th></th>\n",
       "    </tr>\n",
       "  </thead>\n",
       "  <tbody>\n",
       "    <tr>\n",
       "      <th>1</th>\n",
       "      <td>0.311382</td>\n",
       "      <td>0.485636</td>\n",
       "      <td>0.202144</td>\n",
       "      <td>0.395415</td>\n",
       "      <td>0.001000</td>\n",
       "    </tr>\n",
       "    <tr>\n",
       "      <th>2</th>\n",
       "      <td>0.290583</td>\n",
       "      <td>0.466159</td>\n",
       "      <td>0.186863</td>\n",
       "      <td>0.378318</td>\n",
       "      <td>0.001000</td>\n",
       "    </tr>\n",
       "    <tr>\n",
       "      <th>3</th>\n",
       "      <td>0.271151</td>\n",
       "      <td>0.446873</td>\n",
       "      <td>0.172245</td>\n",
       "      <td>0.361225</td>\n",
       "      <td>0.001000</td>\n",
       "    </tr>\n",
       "    <tr>\n",
       "      <th>4</th>\n",
       "      <td>0.251780</td>\n",
       "      <td>0.427297</td>\n",
       "      <td>0.158300</td>\n",
       "      <td>0.344150</td>\n",
       "      <td>0.001000</td>\n",
       "    </tr>\n",
       "    <tr>\n",
       "      <th>5</th>\n",
       "      <td>0.234213</td>\n",
       "      <td>0.408271</td>\n",
       "      <td>0.145263</td>\n",
       "      <td>0.327379</td>\n",
       "      <td>0.001000</td>\n",
       "    </tr>\n",
       "    <tr>\n",
       "      <th>6</th>\n",
       "      <td>0.216548</td>\n",
       "      <td>0.389860</td>\n",
       "      <td>0.133062</td>\n",
       "      <td>0.310936</td>\n",
       "      <td>0.001000</td>\n",
       "    </tr>\n",
       "    <tr>\n",
       "      <th>7</th>\n",
       "      <td>0.201058</td>\n",
       "      <td>0.372029</td>\n",
       "      <td>0.121790</td>\n",
       "      <td>0.295017</td>\n",
       "      <td>0.001000</td>\n",
       "    </tr>\n",
       "    <tr>\n",
       "      <th>8</th>\n",
       "      <td>0.185874</td>\n",
       "      <td>0.354430</td>\n",
       "      <td>0.111622</td>\n",
       "      <td>0.279840</td>\n",
       "      <td>0.001000</td>\n",
       "    </tr>\n",
       "    <tr>\n",
       "      <th>9</th>\n",
       "      <td>0.172108</td>\n",
       "      <td>0.337540</td>\n",
       "      <td>0.102273</td>\n",
       "      <td>0.265105</td>\n",
       "      <td>0.001000</td>\n",
       "    </tr>\n",
       "    <tr>\n",
       "      <th>10</th>\n",
       "      <td>0.159413</td>\n",
       "      <td>0.321461</td>\n",
       "      <td>0.093822</td>\n",
       "      <td>0.250953</td>\n",
       "      <td>0.001000</td>\n",
       "    </tr>\n",
       "    <tr>\n",
       "      <th>11</th>\n",
       "      <td>0.147840</td>\n",
       "      <td>0.306515</td>\n",
       "      <td>0.086101</td>\n",
       "      <td>0.237252</td>\n",
       "      <td>0.001000</td>\n",
       "    </tr>\n",
       "    <tr>\n",
       "      <th>12</th>\n",
       "      <td>0.136989</td>\n",
       "      <td>0.292005</td>\n",
       "      <td>0.078998</td>\n",
       "      <td>0.223887</td>\n",
       "      <td>0.001000</td>\n",
       "    </tr>\n",
       "    <tr>\n",
       "      <th>13</th>\n",
       "      <td>0.127271</td>\n",
       "      <td>0.278080</td>\n",
       "      <td>0.072425</td>\n",
       "      <td>0.212087</td>\n",
       "      <td>0.001000</td>\n",
       "    </tr>\n",
       "    <tr>\n",
       "      <th>14</th>\n",
       "      <td>0.117819</td>\n",
       "      <td>0.264515</td>\n",
       "      <td>0.066255</td>\n",
       "      <td>0.200663</td>\n",
       "      <td>0.001000</td>\n",
       "    </tr>\n",
       "    <tr>\n",
       "      <th>15</th>\n",
       "      <td>0.109190</td>\n",
       "      <td>0.251637</td>\n",
       "      <td>0.060391</td>\n",
       "      <td>0.190334</td>\n",
       "      <td>0.001000</td>\n",
       "    </tr>\n",
       "    <tr>\n",
       "      <th>16</th>\n",
       "      <td>0.100771</td>\n",
       "      <td>0.238259</td>\n",
       "      <td>0.054915</td>\n",
       "      <td>0.180298</td>\n",
       "      <td>0.001000</td>\n",
       "    </tr>\n",
       "    <tr>\n",
       "      <th>17</th>\n",
       "      <td>0.092357</td>\n",
       "      <td>0.225711</td>\n",
       "      <td>0.049697</td>\n",
       "      <td>0.171416</td>\n",
       "      <td>0.001000</td>\n",
       "    </tr>\n",
       "    <tr>\n",
       "      <th>18</th>\n",
       "      <td>0.085086</td>\n",
       "      <td>0.214389</td>\n",
       "      <td>0.044820</td>\n",
       "      <td>0.162636</td>\n",
       "      <td>0.001000</td>\n",
       "    </tr>\n",
       "    <tr>\n",
       "      <th>19</th>\n",
       "      <td>0.077896</td>\n",
       "      <td>0.201982</td>\n",
       "      <td>0.040549</td>\n",
       "      <td>0.154545</td>\n",
       "      <td>0.001000</td>\n",
       "    </tr>\n",
       "    <tr>\n",
       "      <th>20</th>\n",
       "      <td>0.071154</td>\n",
       "      <td>0.189333</td>\n",
       "      <td>0.036837</td>\n",
       "      <td>0.148465</td>\n",
       "      <td>0.001000</td>\n",
       "    </tr>\n",
       "    <tr>\n",
       "      <th>21</th>\n",
       "      <td>0.065434</td>\n",
       "      <td>0.179366</td>\n",
       "      <td>0.033645</td>\n",
       "      <td>0.143404</td>\n",
       "      <td>0.001000</td>\n",
       "    </tr>\n",
       "    <tr>\n",
       "      <th>22</th>\n",
       "      <td>0.060225</td>\n",
       "      <td>0.171089</td>\n",
       "      <td>0.030995</td>\n",
       "      <td>0.138630</td>\n",
       "      <td>0.001000</td>\n",
       "    </tr>\n",
       "    <tr>\n",
       "      <th>23</th>\n",
       "      <td>0.055887</td>\n",
       "      <td>0.164929</td>\n",
       "      <td>0.028879</td>\n",
       "      <td>0.134268</td>\n",
       "      <td>0.001000</td>\n",
       "    </tr>\n",
       "    <tr>\n",
       "      <th>24</th>\n",
       "      <td>0.051893</td>\n",
       "      <td>0.160233</td>\n",
       "      <td>0.027186</td>\n",
       "      <td>0.130251</td>\n",
       "      <td>0.001000</td>\n",
       "    </tr>\n",
       "    <tr>\n",
       "      <th>25</th>\n",
       "      <td>0.048790</td>\n",
       "      <td>0.156669</td>\n",
       "      <td>0.025804</td>\n",
       "      <td>0.126437</td>\n",
       "      <td>0.001000</td>\n",
       "    </tr>\n",
       "    <tr>\n",
       "      <th>26</th>\n",
       "      <td>0.045903</td>\n",
       "      <td>0.154136</td>\n",
       "      <td>0.024681</td>\n",
       "      <td>0.123339</td>\n",
       "      <td>0.001000</td>\n",
       "    </tr>\n",
       "    <tr>\n",
       "      <th>27</th>\n",
       "      <td>0.043394</td>\n",
       "      <td>0.151362</td>\n",
       "      <td>0.023746</td>\n",
       "      <td>0.122141</td>\n",
       "      <td>0.001000</td>\n",
       "    </tr>\n",
       "    <tr>\n",
       "      <th>28</th>\n",
       "      <td>0.041305</td>\n",
       "      <td>0.149583</td>\n",
       "      <td>0.023018</td>\n",
       "      <td>0.120944</td>\n",
       "      <td>0.001000</td>\n",
       "    </tr>\n",
       "    <tr>\n",
       "      <th>29</th>\n",
       "      <td>0.039454</td>\n",
       "      <td>0.147310</td>\n",
       "      <td>0.022523</td>\n",
       "      <td>0.120139</td>\n",
       "      <td>0.001000</td>\n",
       "    </tr>\n",
       "    <tr>\n",
       "      <th>30</th>\n",
       "      <td>0.037840</td>\n",
       "      <td>0.146821</td>\n",
       "      <td>0.022223</td>\n",
       "      <td>0.120384</td>\n",
       "      <td>0.001000</td>\n",
       "    </tr>\n",
       "    <tr>\n",
       "      <th>31</th>\n",
       "      <td>0.036536</td>\n",
       "      <td>0.146372</td>\n",
       "      <td>0.022064</td>\n",
       "      <td>0.120587</td>\n",
       "      <td>0.001000</td>\n",
       "    </tr>\n",
       "    <tr>\n",
       "      <th>32</th>\n",
       "      <td>0.035635</td>\n",
       "      <td>0.146501</td>\n",
       "      <td>0.022007</td>\n",
       "      <td>0.121121</td>\n",
       "      <td>0.001000</td>\n",
       "    </tr>\n",
       "    <tr>\n",
       "      <th>33</th>\n",
       "      <td>0.034767</td>\n",
       "      <td>0.146038</td>\n",
       "      <td>0.022009</td>\n",
       "      <td>0.122036</td>\n",
       "      <td>0.001000</td>\n",
       "    </tr>\n",
       "    <tr>\n",
       "      <th>34</th>\n",
       "      <td>0.034147</td>\n",
       "      <td>0.145723</td>\n",
       "      <td>0.022058</td>\n",
       "      <td>0.122893</td>\n",
       "      <td>0.001000</td>\n",
       "    </tr>\n",
       "    <tr>\n",
       "      <th>35</th>\n",
       "      <td>0.033670</td>\n",
       "      <td>0.145931</td>\n",
       "      <td>0.022096</td>\n",
       "      <td>0.123293</td>\n",
       "      <td>0.000500</td>\n",
       "    </tr>\n",
       "    <tr>\n",
       "      <th>36</th>\n",
       "      <td>0.033480</td>\n",
       "      <td>0.146045</td>\n",
       "      <td>0.022127</td>\n",
       "      <td>0.123583</td>\n",
       "      <td>0.000500</td>\n",
       "    </tr>\n",
       "    <tr>\n",
       "      <th>37</th>\n",
       "      <td>0.033269</td>\n",
       "      <td>0.145973</td>\n",
       "      <td>0.022145</td>\n",
       "      <td>0.123761</td>\n",
       "      <td>0.000500</td>\n",
       "    </tr>\n",
       "    <tr>\n",
       "      <th>38</th>\n",
       "      <td>0.033119</td>\n",
       "      <td>0.145945</td>\n",
       "      <td>0.022151</td>\n",
       "      <td>0.123821</td>\n",
       "      <td>0.000250</td>\n",
       "    </tr>\n",
       "    <tr>\n",
       "      <th>39</th>\n",
       "      <td>0.033041</td>\n",
       "      <td>0.145865</td>\n",
       "      <td>0.022160</td>\n",
       "      <td>0.123896</td>\n",
       "      <td>0.000250</td>\n",
       "    </tr>\n",
       "    <tr>\n",
       "      <th>40</th>\n",
       "      <td>0.032972</td>\n",
       "      <td>0.145842</td>\n",
       "      <td>0.022179</td>\n",
       "      <td>0.124021</td>\n",
       "      <td>0.000250</td>\n",
       "    </tr>\n",
       "    <tr>\n",
       "      <th>41</th>\n",
       "      <td>0.032899</td>\n",
       "      <td>0.145847</td>\n",
       "      <td>0.022191</td>\n",
       "      <td>0.124093</td>\n",
       "      <td>0.000125</td>\n",
       "    </tr>\n",
       "    <tr>\n",
       "      <th>42</th>\n",
       "      <td>0.032858</td>\n",
       "      <td>0.145855</td>\n",
       "      <td>0.022204</td>\n",
       "      <td>0.124165</td>\n",
       "      <td>0.000125</td>\n",
       "    </tr>\n",
       "  </tbody>\n",
       "</table>\n",
       "</div>"
      ],
      "text/plain": [
       "            loss       mae  val_loss   val_mae        lr\n",
       "epochs                                                  \n",
       "1       0.311382  0.485636  0.202144  0.395415  0.001000\n",
       "2       0.290583  0.466159  0.186863  0.378318  0.001000\n",
       "3       0.271151  0.446873  0.172245  0.361225  0.001000\n",
       "4       0.251780  0.427297  0.158300  0.344150  0.001000\n",
       "5       0.234213  0.408271  0.145263  0.327379  0.001000\n",
       "6       0.216548  0.389860  0.133062  0.310936  0.001000\n",
       "7       0.201058  0.372029  0.121790  0.295017  0.001000\n",
       "8       0.185874  0.354430  0.111622  0.279840  0.001000\n",
       "9       0.172108  0.337540  0.102273  0.265105  0.001000\n",
       "10      0.159413  0.321461  0.093822  0.250953  0.001000\n",
       "11      0.147840  0.306515  0.086101  0.237252  0.001000\n",
       "12      0.136989  0.292005  0.078998  0.223887  0.001000\n",
       "13      0.127271  0.278080  0.072425  0.212087  0.001000\n",
       "14      0.117819  0.264515  0.066255  0.200663  0.001000\n",
       "15      0.109190  0.251637  0.060391  0.190334  0.001000\n",
       "16      0.100771  0.238259  0.054915  0.180298  0.001000\n",
       "17      0.092357  0.225711  0.049697  0.171416  0.001000\n",
       "18      0.085086  0.214389  0.044820  0.162636  0.001000\n",
       "19      0.077896  0.201982  0.040549  0.154545  0.001000\n",
       "20      0.071154  0.189333  0.036837  0.148465  0.001000\n",
       "21      0.065434  0.179366  0.033645  0.143404  0.001000\n",
       "22      0.060225  0.171089  0.030995  0.138630  0.001000\n",
       "23      0.055887  0.164929  0.028879  0.134268  0.001000\n",
       "24      0.051893  0.160233  0.027186  0.130251  0.001000\n",
       "25      0.048790  0.156669  0.025804  0.126437  0.001000\n",
       "26      0.045903  0.154136  0.024681  0.123339  0.001000\n",
       "27      0.043394  0.151362  0.023746  0.122141  0.001000\n",
       "28      0.041305  0.149583  0.023018  0.120944  0.001000\n",
       "29      0.039454  0.147310  0.022523  0.120139  0.001000\n",
       "30      0.037840  0.146821  0.022223  0.120384  0.001000\n",
       "31      0.036536  0.146372  0.022064  0.120587  0.001000\n",
       "32      0.035635  0.146501  0.022007  0.121121  0.001000\n",
       "33      0.034767  0.146038  0.022009  0.122036  0.001000\n",
       "34      0.034147  0.145723  0.022058  0.122893  0.001000\n",
       "35      0.033670  0.145931  0.022096  0.123293  0.000500\n",
       "36      0.033480  0.146045  0.022127  0.123583  0.000500\n",
       "37      0.033269  0.145973  0.022145  0.123761  0.000500\n",
       "38      0.033119  0.145945  0.022151  0.123821  0.000250\n",
       "39      0.033041  0.145865  0.022160  0.123896  0.000250\n",
       "40      0.032972  0.145842  0.022179  0.124021  0.000250\n",
       "41      0.032899  0.145847  0.022191  0.124093  0.000125\n",
       "42      0.032858  0.145855  0.022204  0.124165  0.000125"
      ]
     },
     "execution_count": 40,
     "metadata": {},
     "output_type": "execute_result"
    }
   ],
   "source": [
    "result_df = DataFrame(result.history)\n",
    "result_df['epochs'] = result_df.index+1\n",
    "result_df.set_index('epochs', inplace=True)\n",
    "result_df"
   ]
  },
  {
   "cell_type": "markdown",
   "metadata": {},
   "source": [
    "## #07. 학습 결과 평가\n",
    "\n",
    "시각화 결과가 모이지 않으면 `과적합`이므로 `스케일링 또는 데이터 추가`로 개선 진행.\n",
    "\n",
    "또는, callback, EarlyStopping, ReduceLROnPlateau, ModelCheckpoint로 성능 개선"
   ]
  },
  {
   "cell_type": "markdown",
   "metadata": {},
   "source": [
    "### 1. 학습결과 시각화"
   ]
  },
  {
   "cell_type": "code",
   "execution_count": 41,
   "metadata": {},
   "outputs": [
    {
     "data": {
      "image/png": "[encoded data removed]",
      "text/plain": [
       "<Figure size 2250x750 with 2 Axes>"
      ]
     },
     "metadata": {},
     "output_type": "display_data"
    }
   ],
   "source": [
    "# --------------------\n",
    "# 그래프 기본 설정\n",
    "# --------------------\n",
    "plt.rcParams[\"font.family\"] = 'Malgun Gothic'\n",
    "plt.rcParams[\"font.size\"] = 16\n",
    "plt.rcParams['axes.unicode_minus'] = False\n",
    "\n",
    "# --------------------\n",
    "# 그래프를 그리기 위한 객체 생성\n",
    "# --------------------\n",
    "fig, (ax1, ax2) = plt.subplots(1, 2, figsize=(15, 5), dpi=150)\n",
    "\n",
    "# --------------------\n",
    "# 1) 훈련 및 검증 손실 그리기\n",
    "# --------------------\n",
    "sb.lineplot(x=result_df.index, y='loss', data=result_df, color='blue', label='훈련 손실률', ax=ax1)\n",
    "sb.lineplot(x=result_df.index, y='val_loss', data=result_df, color='orange', label='검증 손실률', ax=ax1)\n",
    "ax1.set_title('훈련 및 검증 손실률')\n",
    "ax1.set_xlabel('반복회차')\n",
    "ax1.set_ylabel('손실률')\n",
    "ax1.grid()\n",
    "ax1.legend()\n",
    "\n",
    "# --------------------\n",
    "# 2) 훈련 및 검증 절대오차 그리기\n",
    "# --------------------\n",
    "sb.lineplot(x=result_df.index, y='mae', data=result_df, color = 'blue', label = '훈련 절대오차', ax=ax2)\n",
    "sb.lineplot(x=result_df.index, y='val_mae', data=result_df, color = 'orange', label = '검증 절대오차', ax=ax2)\n",
    "ax2.set_title('훈련 및 검증 절대오차')\n",
    "ax2.set_xlabel('반복회차')\n",
    "ax2.set_ylabel('정확도')\n",
    "ax2.grid()\n",
    "ax2.legend()\n",
    "\n",
    "plt.show()\n",
    "plt.close()"
   ]
  },
  {
   "cell_type": "markdown",
   "metadata": {},
   "source": [
    "> ephocs를 500으로 지정했지만 50회 전에 학습을 멈춘 것을 확인할 수 있다. 즉, `학습을 조기 종료`함으로서 `학습 성능을 향상`시켰다고 할 수 있다."
   ]
  },
  {
   "cell_type": "markdown",
   "metadata": {},
   "source": [
    "### 2. 모델 성능 평가"
   ]
  },
  {
   "cell_type": "code",
   "execution_count": 42,
   "metadata": {},
   "outputs": [
    {
     "name": "stdout",
     "output_type": "stream",
     "text": [
      "2/2 [==============================] - 0s 15ms/step - loss: 0.0328 - mae: 0.1459\n"
     ]
    },
    {
     "name": "stdout",
     "output_type": "stream",
     "text": [
      "최종 훈련 손실률 : 0.032820, 최종 훈련 절대오차 : 0.145852\n",
      "1/1 [==============================] - 0s 151ms/step - loss: 0.0222 - mae: 0.1242\n",
      "최종 검증 손실률 : 0.022204, 최종 검증 절대오차 : 0.124165\n"
     ]
    }
   ],
   "source": [
    "evaluate1 = model.evaluate(x_train, y_train)\n",
    "print(\"최종 훈련 손실률 : %f, 최종 훈련 절대오차 : %f\" % (evaluate1[0], evaluate1[1]))\n",
    "\n",
    "evaluate2 = model.evaluate(x_test, y_test)\n",
    "print(\"최종 검증 손실률 : %f, 최종 검증 절대오차 : %f\" % (evaluate2[0], evaluate2[1]))"
   ]
  },
  {
   "cell_type": "markdown",
   "metadata": {},
   "source": [
    "## #08. 학습 결과 적용\n",
    "\n",
    "`통계`는 `데이터의 경향을 설명`, `머신러닝`은 `미래의 값을 예측`하는 것이 목적"
   ]
  },
  {
   "cell_type": "markdown",
   "metadata": {},
   "source": [
    "### 1. 테스트 데이터에 대한 예측 결과 산정"
   ]
  },
  {
   "cell_type": "code",
   "execution_count": 43,
   "metadata": {},
   "outputs": [
    {
     "name": "stdout",
     "output_type": "stream",
     "text": [
      "1/1 [==============================] - 0s 294ms/step\n",
      "[[0.4397537 ]\n",
      " [0.33765137]\n",
      " [0.3274411 ]\n",
      " [0.31632864]\n",
      " [0.3989128 ]\n",
      " [0.34786156]\n",
      " [0.34786156]\n",
      " [0.38870254]\n",
      " [0.3274411 ]\n",
      " [0.3989128 ]\n",
      " [0.34786156]\n",
      " [0.409123  ]\n",
      " [0.25062227]\n",
      " [0.33765137]\n",
      " [0.17167504]]\n"
     ]
    }
   ],
   "source": [
    "results = model.predict(x_test)\n",
    "print(results)"
   ]
  },
  {
   "cell_type": "markdown",
   "metadata": {},
   "source": [
    "### 2. 결과 데이터 셋 구성\n",
    "\n",
    "표준화는 2차원, DF는 flatten"
   ]
  },
  {
   "cell_type": "code",
   "execution_count": 44,
   "metadata": {},
   "outputs": [],
   "source": [
    "# y_test"
   ]
  },
  {
   "cell_type": "code",
   "execution_count": 45,
   "metadata": {},
   "outputs": [
    {
     "name": "stdout",
     "output_type": "stream",
     "text": [
      "<class 'numpy.ndarray'>\n"
     ]
    }
   ],
   "source": [
    "print(type(x_test))"
   ]
  },
  {
   "cell_type": "code",
   "execution_count": 46,
   "metadata": {},
   "outputs": [
    {
     "data": {
      "text/html": [
       "<div>\n",
       "<style scoped>\n",
       "    .dataframe tbody tr th:only-of-type {\n",
       "        vertical-align: middle;\n",
       "    }\n",
       "\n",
       "    .dataframe tbody tr th {\n",
       "        vertical-align: top;\n",
       "    }\n",
       "\n",
       "    .dataframe thead th {\n",
       "        text-align: right;\n",
       "    }\n",
       "</style>\n",
       "<table border=\"1\" class=\"dataframe\">\n",
       "  <thead>\n",
       "    <tr style=\"text-align: right;\">\n",
       "      <th></th>\n",
       "      <th>검증데이터</th>\n",
       "      <th>실제값</th>\n",
       "      <th>예측값</th>\n",
       "      <th>예측오차</th>\n",
       "    </tr>\n",
       "  </thead>\n",
       "  <tbody>\n",
       "    <tr>\n",
       "      <th>0</th>\n",
       "      <td>0.904762</td>\n",
       "      <td>0.440678</td>\n",
       "      <td>0.439754</td>\n",
       "      <td>0.000924</td>\n",
       "    </tr>\n",
       "    <tr>\n",
       "      <th>1</th>\n",
       "      <td>0.428571</td>\n",
       "      <td>0.271186</td>\n",
       "      <td>0.337651</td>\n",
       "      <td>-0.066465</td>\n",
       "    </tr>\n",
       "    <tr>\n",
       "      <th>2</th>\n",
       "      <td>0.380952</td>\n",
       "      <td>0.101695</td>\n",
       "      <td>0.327441</td>\n",
       "      <td>-0.225746</td>\n",
       "    </tr>\n",
       "    <tr>\n",
       "      <th>3</th>\n",
       "      <td>0.333333</td>\n",
       "      <td>0.127119</td>\n",
       "      <td>0.316329</td>\n",
       "      <td>-0.189210</td>\n",
       "    </tr>\n",
       "    <tr>\n",
       "      <th>4</th>\n",
       "      <td>0.714286</td>\n",
       "      <td>0.372881</td>\n",
       "      <td>0.398913</td>\n",
       "      <td>-0.026031</td>\n",
       "    </tr>\n",
       "    <tr>\n",
       "      <th>5</th>\n",
       "      <td>0.476190</td>\n",
       "      <td>0.491525</td>\n",
       "      <td>0.347862</td>\n",
       "      <td>0.143664</td>\n",
       "    </tr>\n",
       "    <tr>\n",
       "      <th>6</th>\n",
       "      <td>0.476190</td>\n",
       "      <td>0.661017</td>\n",
       "      <td>0.347862</td>\n",
       "      <td>0.313155</td>\n",
       "    </tr>\n",
       "    <tr>\n",
       "      <th>7</th>\n",
       "      <td>0.666667</td>\n",
       "      <td>0.338983</td>\n",
       "      <td>0.388703</td>\n",
       "      <td>-0.049719</td>\n",
       "    </tr>\n",
       "    <tr>\n",
       "      <th>8</th>\n",
       "      <td>0.380952</td>\n",
       "      <td>0.152542</td>\n",
       "      <td>0.327441</td>\n",
       "      <td>-0.174899</td>\n",
       "    </tr>\n",
       "    <tr>\n",
       "      <th>9</th>\n",
       "      <td>0.714286</td>\n",
       "      <td>0.559322</td>\n",
       "      <td>0.398913</td>\n",
       "      <td>0.160409</td>\n",
       "    </tr>\n",
       "    <tr>\n",
       "      <th>10</th>\n",
       "      <td>0.476190</td>\n",
       "      <td>0.203390</td>\n",
       "      <td>0.347862</td>\n",
       "      <td>-0.144472</td>\n",
       "    </tr>\n",
       "    <tr>\n",
       "      <th>11</th>\n",
       "      <td>0.761905</td>\n",
       "      <td>0.457627</td>\n",
       "      <td>0.409123</td>\n",
       "      <td>0.048504</td>\n",
       "    </tr>\n",
       "    <tr>\n",
       "      <th>12</th>\n",
       "      <td>0.142857</td>\n",
       "      <td>0.169492</td>\n",
       "      <td>0.250622</td>\n",
       "      <td>-0.081131</td>\n",
       "    </tr>\n",
       "    <tr>\n",
       "      <th>13</th>\n",
       "      <td>0.428571</td>\n",
       "      <td>0.271186</td>\n",
       "      <td>0.337651</td>\n",
       "      <td>-0.066465</td>\n",
       "    </tr>\n",
       "    <tr>\n",
       "      <th>14</th>\n",
       "      <td>0.000000</td>\n",
       "      <td>0.000000</td>\n",
       "      <td>0.171675</td>\n",
       "      <td>-0.171675</td>\n",
       "    </tr>\n",
       "  </tbody>\n",
       "</table>\n",
       "</div>"
      ],
      "text/plain": [
       "       검증데이터       실제값       예측값      예측오차\n",
       "0   0.904762  0.440678  0.439754  0.000924\n",
       "1   0.428571  0.271186  0.337651 -0.066465\n",
       "2   0.380952  0.101695  0.327441 -0.225746\n",
       "3   0.333333  0.127119  0.316329 -0.189210\n",
       "4   0.714286  0.372881  0.398913 -0.026031\n",
       "5   0.476190  0.491525  0.347862  0.143664\n",
       "6   0.476190  0.661017  0.347862  0.313155\n",
       "7   0.666667  0.338983  0.388703 -0.049719\n",
       "8   0.380952  0.152542  0.327441 -0.174899\n",
       "9   0.714286  0.559322  0.398913  0.160409\n",
       "10  0.476190  0.203390  0.347862 -0.144472\n",
       "11  0.761905  0.457627  0.409123  0.048504\n",
       "12  0.142857  0.169492  0.250622 -0.081131\n",
       "13  0.428571  0.271186  0.337651 -0.066465\n",
       "14  0.000000  0.000000  0.171675 -0.171675"
      ]
     },
     "execution_count": 46,
     "metadata": {},
     "output_type": "execute_result"
    }
   ],
   "source": [
    "kdf = DataFrame({\n",
    "    '검증데이터': x_test.flatten(),\n",
    "    '실제값': y_test.flatten(),\n",
    "    '예측값' : results.flatten()\n",
    "})\n",
    "\n",
    "kdf['예측오차'] = kdf['실제값']-kdf['예측값']\n",
    "\n",
    "kdf"
   ]
  },
  {
   "cell_type": "markdown",
   "metadata": {},
   "source": [
    "### 3. 실제 결과값과 머신러닝에 의한 예측값 비교\n",
    "\n",
    "머신러닝은 통계화는 다르게 실제 값보다 높게 예상하는 경향이 존재"
   ]
  },
  {
   "cell_type": "code",
   "execution_count": 47,
   "metadata": {},
   "outputs": [
    {
     "data": {
      "image/png": "[encoded data removed]",
      "text/plain": [
       "<Figure size 1000x500 with 1 Axes>"
      ]
     },
     "metadata": {},
     "output_type": "display_data"
    }
   ],
   "source": [
    "# 붉은색 - 예측 값, 푸른색 - 실제 값\n",
    "helper.regplot(x_left=kdf['검증데이터'], y_left=kdf['실제값'], y_left_pred=kdf['예측값'])"
   ]
  },
  {
   "cell_type": "markdown",
   "metadata": {},
   "source": [
    "### 3. 임의의 값에 대한 머신러닝 예측 결과\n",
    "\n",
    "- 데이터를 스케일링 했기 때문에 입력하는 임의의 값도 스케일링해야함\n",
    "\n",
    "`통계`는 `데이터의 경향을 설명`, `머신러닝`은 `미래의 값을 예측`하는 것이 목적"
   ]
  },
  {
   "cell_type": "code",
   "execution_count": 48,
   "metadata": {},
   "outputs": [],
   "source": [
    "# 속도가 50일 때의 제동거리 예측\n",
    "my_speed = 50"
   ]
  },
  {
   "cell_type": "code",
   "execution_count": 49,
   "metadata": {},
   "outputs": [
    {
     "name": "stderr",
     "output_type": "stream",
     "text": [
      "c:\\Users\\jehyu\\AppData\\Local\\Programs\\Python\\Python39\\lib\\site-packages\\sklearn\\base.py:464: UserWarning: X does not have valid feature names, but MinMaxScaler was fitted with feature names\n",
      "  warnings.warn(\n"
     ]
    },
    {
     "data": {
      "text/plain": [
       "array([[2.19047619]])"
      ]
     },
     "execution_count": 49,
     "metadata": {},
     "output_type": "execute_result"
    }
   ],
   "source": [
    "# 독립변수 표준화에 사용한 객체를 활용\n",
    "my_speed_scale = x_scaler.transform([[my_speed]])\n",
    "my_speed_scale"
   ]
  },
  {
   "cell_type": "code",
   "execution_count": 50,
   "metadata": {},
   "outputs": [
    {
     "name": "stdout",
     "output_type": "stream",
     "text": [
      "<class 'numpy.ndarray'>\n"
     ]
    }
   ],
   "source": [
    "print(type(my_speed_scale))"
   ]
  },
  {
   "cell_type": "code",
   "execution_count": 51,
   "metadata": {},
   "outputs": [
    {
     "name": "stdout",
     "output_type": "stream",
     "text": [
      "1/1 [==============================] - 0s 159ms/step\n"
     ]
    },
    {
     "data": {
      "text/plain": [
       "array([[0.7135192]], dtype=float32)"
      ]
     },
     "execution_count": 51,
     "metadata": {},
     "output_type": "execute_result"
    }
   ],
   "source": [
    "results = model.predict(my_speed_scale)\n",
    "results"
   ]
  },
  {
   "cell_type": "code",
   "execution_count": 52,
   "metadata": {},
   "outputs": [
    {
     "data": {
      "text/plain": [
       "array([[86.19527]], dtype=float32)"
      ]
     },
     "execution_count": 52,
     "metadata": {},
     "output_type": "execute_result"
    }
   ],
   "source": [
    "# 예측 결과는 표준화된 값으로 나오기 때문에 원래의 단위로 되돌리기 위해 역변환\n",
    "y_scaler.inverse_transform(results)"
   ]
  },
  {
   "cell_type": "markdown",
   "metadata": {},
   "source": [
    "> 속력이 50일 경우 예측되는 제동거리는 99.53879"
   ]
  },
  {
   "cell_type": "code",
   "execution_count": null,
   "metadata": {},
   "outputs": [],
   "source": []
  }
 ],
 "metadata": {
  "kernelspec": {
   "display_name": "Python 3",
   "language": "python",
   "name": "python3"
  },
  "language_info": {
   "codemirror_mode": {
    "name": "ipython",
    "version": 3
   },
   "file_extension": ".py",
   "mimetype": "text/x-python",
   "name": "python",
   "nbconvert_exporter": "python",
   "pygments_lexer": "ipython3",
   "version": "3.9.13"
  },
  "orig_nbformat": 4
 },
 "nbformat": 4,
 "nbformat_minor": 2
}
