{
 "cells": [
  {
   "cell_type": "markdown",
   "metadata": {},
   "source": [
    "# 로지스틱 회귀 - 이항분류\n",
    "\n",
    "분류는 분석보다 더 많은 데이터를 요구하는 경향이 있음\n",
    "\n",
    "분석 - negative 요소 확인, 분류 - positive 요소 확인"
   ]
  },
  {
   "cell_type": "markdown",
   "metadata": {},
   "source": [
    "## #01. 패키지 및 그래프 설정"
   ]
  },
  {
   "cell_type": "code",
   "execution_count": 1,
   "metadata": {},
   "outputs": [],
   "source": [
    "import sys\n",
    "sys.path.append(\"../../\")\n",
    "import helper\n",
    "\n",
    "from pandas import read_excel, DataFrame\n",
    "from matplotlib import pyplot as plt\n",
    "import seaborn as sb\n",
    "import numpy as np\n",
    "\n",
    "from sklearn.model_selection import train_test_split\n",
    "from sklearn.preprocessing import StandardScaler\n",
    "from sklearn.metrics import classification_report, confusion_matrix, roc_curve, roc_auc_score, accuracy_score, recall_score, precision_score, f1_score\n",
    "\n",
    "from tensorflow.keras.models import Sequential\n",
    "from tensorflow.keras.layers import Dense\n",
    "from tensorflow.keras.callbacks import EarlyStopping\n",
    "from tensorflow.keras.callbacks import ReduceLROnPlateau\n",
    "from tensorflow.keras.callbacks import ModelCheckpoint"
   ]
  },
  {
   "cell_type": "code",
   "execution_count": 2,
   "metadata": {},
   "outputs": [],
   "source": [
    "plt.rcParams[\"font.family\"] = 'AppleGothic' if sys.platform == 'darwin' else 'Malgun Gothic'\n",
    "plt.rcParams[\"font.size\"] = 12\n",
    "plt.rcParams[\"figure.figsize\"] = (10, 5)\n",
    "plt.rcParams[\"axes.unicode_minus\"] = False"
   ]
  },
  {
   "cell_type": "markdown",
   "metadata": {},
   "source": [
    "## #02. 데이터셋 준비\n",
    "\n",
    "방사선학 석사과정 대학원생 모집을 하였다. 이 때 지원한 방사선사의 대학원 합격 여부에 따른 주요 요인이 무엇인지 분석하라.\n",
    "\n",
    "단, 독립변수는 정규분포를 따른다고 가정한다.\n",
    "\n",
    "| 변수 | 구분 | 설명 |\n",
    "|---|---|---\n",
    "| 합격여부 | 범주형 | 1=합격, 0=불합격 |\n",
    "| 필기점수 | 연속형 | 800점 만점 |\n",
    "| 학부성적 | 연속형 | 4.0 만점 |\n",
    "| 병원경력 | 범주형 | 1: 10년이상, 2: 2~5년, 3: 1~5년, 4: 1년 미만 |"
   ]
  },
  {
   "cell_type": "code",
   "execution_count": 3,
   "metadata": {},
   "outputs": [
    {
     "data": {
      "text/html": [
       "<div>\n",
       "<style scoped>\n",
       "    .dataframe tbody tr th:only-of-type {\n",
       "        vertical-align: middle;\n",
       "    }\n",
       "\n",
       "    .dataframe tbody tr th {\n",
       "        vertical-align: top;\n",
       "    }\n",
       "\n",
       "    .dataframe thead th {\n",
       "        text-align: right;\n",
       "    }\n",
       "</style>\n",
       "<table border=\"1\" class=\"dataframe\">\n",
       "  <thead>\n",
       "    <tr style=\"text-align: right;\">\n",
       "      <th></th>\n",
       "      <th>합격여부</th>\n",
       "      <th>필기점수</th>\n",
       "      <th>학부성적</th>\n",
       "      <th>병원경력</th>\n",
       "    </tr>\n",
       "  </thead>\n",
       "  <tbody>\n",
       "    <tr>\n",
       "      <th>0</th>\n",
       "      <td>0</td>\n",
       "      <td>380</td>\n",
       "      <td>3.61</td>\n",
       "      <td>3</td>\n",
       "    </tr>\n",
       "    <tr>\n",
       "      <th>1</th>\n",
       "      <td>1</td>\n",
       "      <td>660</td>\n",
       "      <td>3.67</td>\n",
       "      <td>3</td>\n",
       "    </tr>\n",
       "    <tr>\n",
       "      <th>2</th>\n",
       "      <td>1</td>\n",
       "      <td>800</td>\n",
       "      <td>4.00</td>\n",
       "      <td>1</td>\n",
       "    </tr>\n",
       "    <tr>\n",
       "      <th>3</th>\n",
       "      <td>1</td>\n",
       "      <td>640</td>\n",
       "      <td>3.19</td>\n",
       "      <td>4</td>\n",
       "    </tr>\n",
       "    <tr>\n",
       "      <th>4</th>\n",
       "      <td>0</td>\n",
       "      <td>520</td>\n",
       "      <td>2.93</td>\n",
       "      <td>4</td>\n",
       "    </tr>\n",
       "  </tbody>\n",
       "</table>\n",
       "</div>"
      ],
      "text/plain": [
       "   합격여부  필기점수  학부성적  병원경력\n",
       "0     0   380  3.61     3\n",
       "1     1   660  3.67     3\n",
       "2     1   800  4.00     1\n",
       "3     1   640  3.19     4\n",
       "4     0   520  2.93     4"
      ]
     },
     "execution_count": 3,
     "metadata": {},
     "output_type": "execute_result"
    }
   ],
   "source": [
    "origin = read_excel(\"https://data.hossam.kr/E05/gradeuate.xlsx\")\n",
    "origin.head()"
   ]
  },
  {
   "cell_type": "markdown",
   "metadata": {},
   "source": [
    "## #03. 데이터 전처리"
   ]
  },
  {
   "cell_type": "markdown",
   "metadata": {},
   "source": [
    "### 결측치 확인\n",
    "\n",
    "isna"
   ]
  },
  {
   "cell_type": "code",
   "execution_count": 4,
   "metadata": {},
   "outputs": [
    {
     "data": {
      "text/plain": [
       "합격여부    0\n",
       "필기점수    0\n",
       "학부성적    0\n",
       "병원경력    0\n",
       "dtype: int64"
      ]
     },
     "execution_count": 4,
     "metadata": {},
     "output_type": "execute_result"
    }
   ],
   "source": [
    "origin.isna().sum()"
   ]
  },
  {
   "cell_type": "markdown",
   "metadata": {},
   "source": [
    "### 명목형에 대한 데이터 타입 설정\n",
    "\n",
    "- 명목형으로 의심되면 일단 value_counts()로 확인\n",
    "- type, shape, info 등을 사용해 객체 형태 및 정보를 확인 가능"
   ]
  },
  {
   "cell_type": "code",
   "execution_count": 5,
   "metadata": {},
   "outputs": [
    {
     "data": {
      "text/plain": [
       "Index(['합격여부', '필기점수', '학부성적', '병원경력'], dtype='object')"
      ]
     },
     "execution_count": 5,
     "metadata": {},
     "output_type": "execute_result"
    }
   ],
   "source": [
    "origin.columns"
   ]
  },
  {
   "cell_type": "code",
   "execution_count": 6,
   "metadata": {},
   "outputs": [
    {
     "data": {
      "text/plain": [
       "합격여부\n",
       "0    273\n",
       "1    127\n",
       "Name: count, dtype: int64"
      ]
     },
     "execution_count": 6,
     "metadata": {},
     "output_type": "execute_result"
    }
   ],
   "source": [
    "# origin['병원경력'].value_counts()\n",
    "origin['합격여부'].value_counts()"
   ]
  },
  {
   "cell_type": "code",
   "execution_count": 7,
   "metadata": {},
   "outputs": [
    {
     "name": "stdout",
     "output_type": "stream",
     "text": [
      "<class 'pandas.core.frame.DataFrame'>\n",
      "RangeIndex: 400 entries, 0 to 399\n",
      "Data columns (total 4 columns):\n",
      " #   Column  Non-Null Count  Dtype   \n",
      "---  ------  --------------  -----   \n",
      " 0   합격여부    400 non-null    category\n",
      " 1   필기점수    400 non-null    int64   \n",
      " 2   학부성적    400 non-null    float64 \n",
      " 3   병원경력    400 non-null    int64   \n",
      "dtypes: category(1), float64(1), int64(2)\n",
      "memory usage: 10.0 KB\n"
     ]
    }
   ],
   "source": [
    "origin['합격여부'] = origin['합격여부'].astype('category')\n",
    "origin.info()"
   ]
  },
  {
   "cell_type": "markdown",
   "metadata": {},
   "source": [
    "## #04. 탐색적 데이터 분석"
   ]
  },
  {
   "cell_type": "markdown",
   "metadata": {},
   "source": [
    "### 기본(기초)통계 확인\n",
    "\n",
    "describe"
   ]
  },
  {
   "cell_type": "code",
   "execution_count": 8,
   "metadata": {},
   "outputs": [
    {
     "data": {
      "text/html": [
       "<div>\n",
       "<style scoped>\n",
       "    .dataframe tbody tr th:only-of-type {\n",
       "        vertical-align: middle;\n",
       "    }\n",
       "\n",
       "    .dataframe tbody tr th {\n",
       "        vertical-align: top;\n",
       "    }\n",
       "\n",
       "    .dataframe thead th {\n",
       "        text-align: right;\n",
       "    }\n",
       "</style>\n",
       "<table border=\"1\" class=\"dataframe\">\n",
       "  <thead>\n",
       "    <tr style=\"text-align: right;\">\n",
       "      <th></th>\n",
       "      <th>필기점수</th>\n",
       "      <th>학부성적</th>\n",
       "      <th>병원경력</th>\n",
       "    </tr>\n",
       "  </thead>\n",
       "  <tbody>\n",
       "    <tr>\n",
       "      <th>count</th>\n",
       "      <td>400.000000</td>\n",
       "      <td>400.000000</td>\n",
       "      <td>400.00000</td>\n",
       "    </tr>\n",
       "    <tr>\n",
       "      <th>mean</th>\n",
       "      <td>587.700000</td>\n",
       "      <td>3.389900</td>\n",
       "      <td>2.48500</td>\n",
       "    </tr>\n",
       "    <tr>\n",
       "      <th>std</th>\n",
       "      <td>115.516536</td>\n",
       "      <td>0.380567</td>\n",
       "      <td>0.94446</td>\n",
       "    </tr>\n",
       "    <tr>\n",
       "      <th>min</th>\n",
       "      <td>220.000000</td>\n",
       "      <td>2.260000</td>\n",
       "      <td>1.00000</td>\n",
       "    </tr>\n",
       "    <tr>\n",
       "      <th>25%</th>\n",
       "      <td>520.000000</td>\n",
       "      <td>3.130000</td>\n",
       "      <td>2.00000</td>\n",
       "    </tr>\n",
       "    <tr>\n",
       "      <th>50%</th>\n",
       "      <td>580.000000</td>\n",
       "      <td>3.395000</td>\n",
       "      <td>2.00000</td>\n",
       "    </tr>\n",
       "    <tr>\n",
       "      <th>75%</th>\n",
       "      <td>660.000000</td>\n",
       "      <td>3.670000</td>\n",
       "      <td>3.00000</td>\n",
       "    </tr>\n",
       "    <tr>\n",
       "      <th>max</th>\n",
       "      <td>800.000000</td>\n",
       "      <td>4.000000</td>\n",
       "      <td>4.00000</td>\n",
       "    </tr>\n",
       "  </tbody>\n",
       "</table>\n",
       "</div>"
      ],
      "text/plain": [
       "             필기점수        학부성적       병원경력\n",
       "count  400.000000  400.000000  400.00000\n",
       "mean   587.700000    3.389900    2.48500\n",
       "std    115.516536    0.380567    0.94446\n",
       "min    220.000000    2.260000    1.00000\n",
       "25%    520.000000    3.130000    2.00000\n",
       "50%    580.000000    3.395000    2.00000\n",
       "75%    660.000000    3.670000    3.00000\n",
       "max    800.000000    4.000000    4.00000"
      ]
     },
     "execution_count": 8,
     "metadata": {},
     "output_type": "execute_result"
    }
   ],
   "source": [
    "origin.describe()"
   ]
  },
  {
   "cell_type": "markdown",
   "metadata": {},
   "source": [
    "### boxplot\n",
    "\n",
    "표준화 여부 결정에 도움.\n",
    "\n",
    "각 변수의 분포가 너무 상이할 경우 표준화 진행."
   ]
  },
  {
   "cell_type": "code",
   "execution_count": 9,
   "metadata": {},
   "outputs": [
    {
     "data": {
      "image/png": "[encoded data removed]",
      "text/plain": [
       "<Figure size 1000x500 with 1 Axes>"
      ]
     },
     "metadata": {},
     "output_type": "display_data"
    }
   ],
   "source": [
    "plt.figure()\n",
    "sb.boxplot(data=origin)\n",
    "plt.grid()\n",
    "plt.show()\n",
    "plt.close()"
   ]
  },
  {
   "cell_type": "markdown",
   "metadata": {},
   "source": [
    "> 데이터 단위가 크게 상이하므로 표준화가 필요해 보임."
   ]
  },
  {
   "cell_type": "markdown",
   "metadata": {},
   "source": [
    "## #05. 데이터셋 분할"
   ]
  },
  {
   "cell_type": "markdown",
   "metadata": {},
   "source": [
    "### 랜덤시드 고정"
   ]
  },
  {
   "cell_type": "code",
   "execution_count": 10,
   "metadata": {},
   "outputs": [],
   "source": [
    "np.random.seed(777)"
   ]
  },
  {
   "cell_type": "markdown",
   "metadata": {},
   "source": [
    "### 훈련 데이터(독립변수)와 레이블(종속변수) 구분하기"
   ]
  },
  {
   "cell_type": "code",
   "execution_count": 11,
   "metadata": {},
   "outputs": [
    {
     "data": {
      "text/plain": [
       "Index(['합격여부', '필기점수', '학부성적', '병원경력'], dtype='object')"
      ]
     },
     "execution_count": 11,
     "metadata": {},
     "output_type": "execute_result"
    }
   ],
   "source": [
    "origin.columns"
   ]
  },
  {
   "cell_type": "code",
   "execution_count": 12,
   "metadata": {},
   "outputs": [
    {
     "data": {
      "text/plain": [
       "((400, 3), (400, 1))"
      ]
     },
     "execution_count": 12,
     "metadata": {},
     "output_type": "execute_result"
    }
   ],
   "source": [
    "x = origin[['필기점수','학부성적','병원경력']]\n",
    "y = origin[['합격여부']]\n",
    "x.shape, y.shape"
   ]
  },
  {
   "cell_type": "markdown",
   "metadata": {},
   "source": [
    "### 데이터 표준화\n",
    "\n",
    "- 통계에서는 종속변수 표준화를 권장하지 않음\n",
    "- 예측 값을 역 표준화 해야하지 때문\n",
    "> - 단, 머신러닝 선능을 위해서 종속변수 표준화 권장\n",
    "- 표준화를 거치면 numpy 배열 형태(2차원 데이터 배열) -> [0]로 열 길이 출력 가능\n",
    "- 표준화를 진행하지 않으면 DF 형태(1차원 형태) -> iloc[0]로 열 길이 출력 가능\n",
    "- type, shape, info 등을 사용해 객체 형태 및 정보를 확인 가능"
   ]
  },
  {
   "cell_type": "code",
   "execution_count": 13,
   "metadata": {},
   "outputs": [
    {
     "name": "stdout",
     "output_type": "stream",
     "text": [
      "(400, 3)\n"
     ]
    },
    {
     "data": {
      "text/plain": [
       "array([[-1.80026271,  0.57907192,  0.54596793],\n",
       "       [ 0.62666824,  0.73692942,  0.54596793],\n",
       "       [ 1.84013372,  1.60514289, -1.57429586],\n",
       "       ...,\n",
       "       [-1.10685387, -1.99925902, -0.51416397],\n",
       "       [ 0.97337266,  0.68431046, -0.51416397],\n",
       "       [ 0.10661161,  1.31573861,  0.54596793]])"
      ]
     },
     "execution_count": 13,
     "metadata": {},
     "output_type": "execute_result"
    }
   ],
   "source": [
    "x_scaller = StandardScaler()\n",
    "x_scale = x_scaller.fit_transform(x)\n",
    "# type(x_scale.shape)\n",
    "print(x_scale.shape)\n",
    "x_scale"
   ]
  },
  {
   "cell_type": "markdown",
   "metadata": {},
   "source": [
    "> 2차원 배열"
   ]
  },
  {
   "cell_type": "markdown",
   "metadata": {},
   "source": [
    "### 표준화 전 후 상자그림 비교"
   ]
  },
  {
   "cell_type": "code",
   "execution_count": 14,
   "metadata": {},
   "outputs": [
    {
     "data": {
      "image/png": "[encoded data removed]",
      "text/plain": [
       "<Figure size 2250x750 with 2 Axes>"
      ]
     },
     "metadata": {},
     "output_type": "display_data"
    }
   ],
   "source": [
    "# 임시로 독립변수와 종속변수를 하나의 DataFrame으로 병합\n",
    "x_scale_df = DataFrame(x_scale, columns=['필기점수','학부성적','병원경력'])\n",
    "\n",
    "fig, ax = plt.subplots(1, 2, figsize=(15, 5), dpi=150)\n",
    "sb.boxplot(data=origin, ax=ax[0])\n",
    "sb.boxplot(data=x_scale_df, ax=ax[1])\n",
    "ax[0].set_title('before')\n",
    "ax[1].set_title('after')\n",
    "plt.show()\n",
    "plt.close()"
   ]
  },
  {
   "cell_type": "markdown",
   "metadata": {},
   "source": [
    "> 데이터 분포가 개선되었음을 확인"
   ]
  },
  {
   "cell_type": "markdown",
   "metadata": {},
   "source": [
    "### 훈련 데이터와 검증 데이터로 분할"
   ]
  },
  {
   "cell_type": "code",
   "execution_count": 15,
   "metadata": {},
   "outputs": [
    {
     "data": {
      "text/plain": [
       "((280, 3), (120, 3), (280, 1), (120, 1))"
      ]
     },
     "execution_count": 15,
     "metadata": {},
     "output_type": "execute_result"
    }
   ],
   "source": [
    "# 종속변수 y는 표준화 미진행 -> y사용\n",
    "x_train, x_test, y_train, y_test = train_test_split(x_scale, y, test_size=0.3, random_state=777)\n",
    "x_train.shape, x_test.shape, y_train.shape, y_test.shape"
   ]
  },
  {
   "cell_type": "markdown",
   "metadata": {},
   "source": [
    "## #06. 모델 개발"
   ]
  },
  {
   "cell_type": "markdown",
   "metadata": {},
   "source": [
    "### 모델 정의\n",
    "\n",
    "> [relu], sigmoid, rmsporp, binary_crossentropy, acc\n",
    "\n",
    "- input_shape은 독립변수 수\n",
    "- Dense 신경망 개수의 수에 따라서 모델의 성능에 차이가 발생\n",
    "    - 직감으로 맞춤(다른 방법 없음) 보통 16 또는 32 이상\n",
    "    - 최적의 값을 직접 탐색(너무 많으면 컴퓨터 다운)\n",
    "- activation은 모델과 분석 종류에 따라서 다름 \n",
    "    - 보통 시작은 relu, 분류는 sigmoid, 회귀는 linear\n",
    "- optimizer은 모르면 Adam\n",
    "- epochs는 많아도 크게 상관이 없음\n",
    "- 2차항을 하고 싶다면 sklearn으로 2차항 생성 후 Sequential에 입력"
   ]
  },
  {
   "cell_type": "code",
   "execution_count": 16,
   "metadata": {},
   "outputs": [
    {
     "name": "stdout",
     "output_type": "stream",
     "text": [
      "Model: \"sequential\"\n",
      "_________________________________________________________________\n",
      " Layer (type)                Output Shape              Param #   \n",
      "=================================================================\n",
      " dense (Dense)               (None, 32)                128       \n",
      "                                                                 \n",
      " dense_1 (Dense)             (None, 1)                 33        \n",
      "                                                                 \n",
      "=================================================================\n",
      "Total params: 161 (644.00 Byte)\n",
      "Trainable params: 161 (644.00 Byte)\n",
      "Non-trainable params: 0 (0.00 Byte)\n",
      "_________________________________________________________________\n"
     ]
    }
   ],
   "source": [
    "model = Sequential()\n",
    "model.add(Dense(32, activation='relu', input_shape=(3, )))\n",
    "model.add(Dense(1, activation='sigmoid'))\n",
    "model.compile(optimizer='rmsprop', loss = 'binary_crossentropy', metrics = ['acc'])\n",
    "model.summary()"
   ]
  },
  {
   "cell_type": "markdown",
   "metadata": {},
   "source": [
    "### 학습하기\n",
    "\n",
    "- epochs는 많아도 크게 상관이 없음(단, 너무 크면 오래 걸리고 오차가 증가)\n",
    "    - callback을 사용해 모델의 학습 방향, 저장 시점, 학습 정지 시점 등에 관한 상황을 모니터링\n",
    "    - EarlyStopping 콜백과 같이 patience 인자를 지정하여, 지정된 기간 동안 `평가지표에서 성능 향상이 일어나지 않으면 학습률을 조정하는 콜백`\n",
    "    - ReduceLROnPlateau EarlyStopping 콜백과 같이 patience 인자를 지정하여, 지정된 기간 동안 `평가지표에서 성능 향상이 일어나지 않으면 학습률을 조정하는 콜백`\n",
    "    - ModelCheckpoint 지정한 평가지표를 기준으로 가장 뛰어난 성능을 보여주는 모델을 저장 할 때 사용"
   ]
  },
  {
   "cell_type": "code",
   "execution_count": 17,
   "metadata": {},
   "outputs": [
    {
     "name": "stdout",
     "output_type": "stream",
     "text": [
      "Epoch 1/500\n",
      "9/9 [==============================] - 3s 83ms/step - loss: 0.7537 - acc: 0.4393 - val_loss: 0.7860 - val_acc: 0.4000 - lr: 0.0010\n",
      "Epoch 2/500\n",
      "9/9 [==============================] - 0s 15ms/step - loss: 0.7285 - acc: 0.4464 - val_loss: 0.7586 - val_acc: 0.4333 - lr: 0.0010\n",
      "Epoch 3/500\n",
      "9/9 [==============================] - 0s 33ms/step - loss: 0.7112 - acc: 0.4893 - val_loss: 0.7377 - val_acc: 0.4583 - lr: 0.0010\n",
      "Epoch 4/500\n",
      "9/9 [==============================] - 0s 14ms/step - loss: 0.6974 - acc: 0.5107 - val_loss: 0.7194 - val_acc: 0.4833 - lr: 0.0010\n",
      "Epoch 5/500\n",
      "9/9 [==============================] - 0s 19ms/step - loss: 0.6850 - acc: 0.5536 - val_loss: 0.7021 - val_acc: 0.5083 - lr: 0.0010\n",
      "Epoch 6/500\n",
      "9/9 [==============================] - 0s 17ms/step - loss: 0.6745 - acc: 0.5714 - val_loss: 0.6871 - val_acc: 0.5583 - lr: 0.0010\n",
      "Epoch 7/500\n",
      "9/9 [==============================] - 0s 19ms/step - loss: 0.6645 - acc: 0.6143 - val_loss: 0.6736 - val_acc: 0.6583 - lr: 0.0010\n",
      "Epoch 8/500\n",
      "9/9 [==============================] - 0s 14ms/step - loss: 0.6553 - acc: 0.6357 - val_loss: 0.6603 - val_acc: 0.6500 - lr: 0.0010\n",
      "Epoch 9/500\n",
      "9/9 [==============================] - 0s 15ms/step - loss: 0.6477 - acc: 0.6607 - val_loss: 0.6480 - val_acc: 0.6500 - lr: 0.0010\n",
      "Epoch 10/500\n",
      "9/9 [==============================] - 0s 30ms/step - loss: 0.6398 - acc: 0.6786 - val_loss: 0.6368 - val_acc: 0.6583 - lr: 0.0010\n",
      "Epoch 11/500\n",
      "9/9 [==============================] - 0s 19ms/step - loss: 0.6331 - acc: 0.6750 - val_loss: 0.6260 - val_acc: 0.6833 - lr: 0.0010\n",
      "Epoch 12/500\n",
      "9/9 [==============================] - 0s 22ms/step - loss: 0.6271 - acc: 0.6750 - val_loss: 0.6165 - val_acc: 0.7000 - lr: 0.0010\n",
      "Epoch 13/500\n",
      "9/9 [==============================] - 0s 17ms/step - loss: 0.6222 - acc: 0.6750 - val_loss: 0.6087 - val_acc: 0.7000 - lr: 0.0010\n",
      "Epoch 14/500\n",
      "9/9 [==============================] - 0s 13ms/step - loss: 0.6176 - acc: 0.6750 - val_loss: 0.6009 - val_acc: 0.7000 - lr: 0.0010\n",
      "Epoch 15/500\n",
      "9/9 [==============================] - 0s 16ms/step - loss: 0.6136 - acc: 0.6750 - val_loss: 0.5937 - val_acc: 0.7000 - lr: 0.0010\n",
      "Epoch 16/500\n",
      "9/9 [==============================] - 0s 20ms/step - loss: 0.6102 - acc: 0.6750 - val_loss: 0.5873 - val_acc: 0.7000 - lr: 0.0010\n",
      "Epoch 17/500\n",
      "9/9 [==============================] - 0s 14ms/step - loss: 0.6074 - acc: 0.6750 - val_loss: 0.5814 - val_acc: 0.7000 - lr: 0.0010\n",
      "Epoch 18/500\n",
      "9/9 [==============================] - 0s 14ms/step - loss: 0.6048 - acc: 0.6750 - val_loss: 0.5767 - val_acc: 0.7000 - lr: 0.0010\n",
      "Epoch 19/500\n",
      "9/9 [==============================] - 0s 15ms/step - loss: 0.6027 - acc: 0.6750 - val_loss: 0.5722 - val_acc: 0.7000 - lr: 0.0010\n",
      "Epoch 20/500\n",
      "9/9 [==============================] - 0s 14ms/step - loss: 0.6009 - acc: 0.6786 - val_loss: 0.5682 - val_acc: 0.7083 - lr: 0.0010\n",
      "Epoch 21/500\n",
      "9/9 [==============================] - 0s 16ms/step - loss: 0.5990 - acc: 0.6750 - val_loss: 0.5651 - val_acc: 0.7083 - lr: 0.0010\n",
      "Epoch 22/500\n",
      "9/9 [==============================] - 0s 19ms/step - loss: 0.5978 - acc: 0.6750 - val_loss: 0.5618 - val_acc: 0.7167 - lr: 0.0010\n",
      "Epoch 23/500\n",
      "9/9 [==============================] - 0s 10ms/step - loss: 0.5963 - acc: 0.6786 - val_loss: 0.5592 - val_acc: 0.7083 - lr: 0.0010\n",
      "Epoch 24/500\n",
      "9/9 [==============================] - 0s 12ms/step - loss: 0.5956 - acc: 0.6821 - val_loss: 0.5569 - val_acc: 0.7250 - lr: 0.0010\n",
      "Epoch 25/500\n",
      "9/9 [==============================] - 0s 13ms/step - loss: 0.5947 - acc: 0.6821 - val_loss: 0.5550 - val_acc: 0.7167 - lr: 0.0010\n",
      "Epoch 26/500\n",
      "9/9 [==============================] - 0s 18ms/step - loss: 0.5938 - acc: 0.6857 - val_loss: 0.5534 - val_acc: 0.7167 - lr: 0.0010\n",
      "Epoch 27/500\n",
      "9/9 [==============================] - 0s 16ms/step - loss: 0.5928 - acc: 0.6857 - val_loss: 0.5517 - val_acc: 0.7167 - lr: 0.0010\n",
      "Epoch 28/500\n",
      "9/9 [==============================] - 0s 15ms/step - loss: 0.5925 - acc: 0.6857 - val_loss: 0.5507 - val_acc: 0.7167 - lr: 0.0010\n",
      "Epoch 29/500\n",
      "9/9 [==============================] - 0s 17ms/step - loss: 0.5919 - acc: 0.6786 - val_loss: 0.5499 - val_acc: 0.7167 - lr: 0.0010\n",
      "Epoch 30/500\n",
      "9/9 [==============================] - 0s 16ms/step - loss: 0.5913 - acc: 0.6857 - val_loss: 0.5490 - val_acc: 0.7250 - lr: 0.0010\n",
      "Epoch 31/500\n",
      "9/9 [==============================] - 0s 17ms/step - loss: 0.5911 - acc: 0.6857 - val_loss: 0.5481 - val_acc: 0.7250 - lr: 0.0010\n",
      "Epoch 32/500\n",
      "9/9 [==============================] - 0s 15ms/step - loss: 0.5904 - acc: 0.6929 - val_loss: 0.5476 - val_acc: 0.7250 - lr: 0.0010\n",
      "Epoch 33/500\n",
      "9/9 [==============================] - 0s 10ms/step - loss: 0.5899 - acc: 0.6893 - val_loss: 0.5469 - val_acc: 0.7250 - lr: 0.0010\n",
      "Epoch 34/500\n",
      "9/9 [==============================] - 0s 16ms/step - loss: 0.5899 - acc: 0.6857 - val_loss: 0.5462 - val_acc: 0.7250 - lr: 0.0010\n",
      "Epoch 35/500\n",
      "9/9 [==============================] - 0s 15ms/step - loss: 0.5894 - acc: 0.6893 - val_loss: 0.5459 - val_acc: 0.7250 - lr: 0.0010\n",
      "Epoch 36/500\n",
      "9/9 [==============================] - 0s 14ms/step - loss: 0.5890 - acc: 0.6893 - val_loss: 0.5452 - val_acc: 0.7250 - lr: 0.0010\n",
      "Epoch 37/500\n",
      "9/9 [==============================] - 0s 14ms/step - loss: 0.5887 - acc: 0.6893 - val_loss: 0.5450 - val_acc: 0.7250 - lr: 0.0010\n",
      "Epoch 38/500\n",
      "9/9 [==============================] - 0s 18ms/step - loss: 0.5883 - acc: 0.6964 - val_loss: 0.5447 - val_acc: 0.7250 - lr: 0.0010\n",
      "Epoch 39/500\n",
      "9/9 [==============================] - 0s 19ms/step - loss: 0.5881 - acc: 0.6929 - val_loss: 0.5442 - val_acc: 0.7333 - lr: 0.0010\n",
      "Epoch 40/500\n",
      "9/9 [==============================] - 0s 62ms/step - loss: 0.5878 - acc: 0.6893 - val_loss: 0.5443 - val_acc: 0.7250 - lr: 0.0010\n",
      "Epoch 41/500\n",
      "9/9 [==============================] - 0s 31ms/step - loss: 0.5877 - acc: 0.6964 - val_loss: 0.5439 - val_acc: 0.7250 - lr: 0.0010\n",
      "Epoch 42/500\n",
      "9/9 [==============================] - 0s 17ms/step - loss: 0.5876 - acc: 0.6929 - val_loss: 0.5437 - val_acc: 0.7250 - lr: 0.0010\n",
      "Epoch 43/500\n",
      "9/9 [==============================] - 0s 16ms/step - loss: 0.5872 - acc: 0.6964 - val_loss: 0.5439 - val_acc: 0.7250 - lr: 0.0010\n",
      "Epoch 44/500\n",
      "9/9 [==============================] - 0s 14ms/step - loss: 0.5870 - acc: 0.6964 - val_loss: 0.5438 - val_acc: 0.7250 - lr: 0.0010\n",
      "Epoch 45/500\n",
      "9/9 [==============================] - 0s 14ms/step - loss: 0.5868 - acc: 0.7000 - val_loss: 0.5436 - val_acc: 0.7250 - lr: 0.0010\n",
      "Epoch 46/500\n",
      "9/9 [==============================] - 0s 17ms/step - loss: 0.5869 - acc: 0.7000 - val_loss: 0.5438 - val_acc: 0.7250 - lr: 0.0010\n",
      "Epoch 47/500\n",
      "9/9 [==============================] - 0s 16ms/step - loss: 0.5864 - acc: 0.7000 - val_loss: 0.5438 - val_acc: 0.7250 - lr: 0.0010\n",
      "Epoch 48/500\n",
      "1/9 [==>...........................] - ETA: 0s - loss: 0.6014 - acc: 0.5938\n",
      "Epoch 48: ReduceLROnPlateau reducing learning rate to 0.0005000000237487257.\n",
      "9/9 [==============================] - 0s 16ms/step - loss: 0.5861 - acc: 0.7000 - val_loss: 0.5437 - val_acc: 0.7250 - lr: 0.0010\n",
      "Epoch 49/500\n",
      "9/9 [==============================] - 0s 15ms/step - loss: 0.5858 - acc: 0.7000 - val_loss: 0.5434 - val_acc: 0.7250 - lr: 5.0000e-04\n",
      "Epoch 50/500\n",
      "9/9 [==============================] - 0s 25ms/step - loss: 0.5855 - acc: 0.7000 - val_loss: 0.5432 - val_acc: 0.7250 - lr: 5.0000e-04\n",
      "Epoch 51/500\n",
      "9/9 [==============================] - 0s 21ms/step - loss: 0.5854 - acc: 0.7000 - val_loss: 0.5431 - val_acc: 0.7250 - lr: 5.0000e-04\n",
      "Epoch 52/500\n",
      "9/9 [==============================] - 0s 15ms/step - loss: 0.5853 - acc: 0.7036 - val_loss: 0.5430 - val_acc: 0.7250 - lr: 5.0000e-04\n",
      "Epoch 53/500\n",
      "9/9 [==============================] - 0s 13ms/step - loss: 0.5854 - acc: 0.7000 - val_loss: 0.5429 - val_acc: 0.7250 - lr: 5.0000e-04\n",
      "Epoch 54/500\n",
      "9/9 [==============================] - 0s 17ms/step - loss: 0.5852 - acc: 0.6964 - val_loss: 0.5429 - val_acc: 0.7250 - lr: 5.0000e-04\n",
      "Epoch 55/500\n",
      "9/9 [==============================] - 0s 17ms/step - loss: 0.5850 - acc: 0.7000 - val_loss: 0.5429 - val_acc: 0.7333 - lr: 5.0000e-04\n",
      "Epoch 56/500\n",
      "9/9 [==============================] - 0s 31ms/step - loss: 0.5849 - acc: 0.7000 - val_loss: 0.5426 - val_acc: 0.7333 - lr: 5.0000e-04\n",
      "Epoch 57/500\n",
      "9/9 [==============================] - 0s 20ms/step - loss: 0.5850 - acc: 0.7071 - val_loss: 0.5427 - val_acc: 0.7333 - lr: 5.0000e-04\n",
      "Epoch 58/500\n",
      "9/9 [==============================] - 0s 21ms/step - loss: 0.5849 - acc: 0.7107 - val_loss: 0.5426 - val_acc: 0.7333 - lr: 5.0000e-04\n",
      "Epoch 59/500\n",
      "1/9 [==>...........................] - ETA: 0s - loss: 0.5638 - acc: 0.6562\n",
      "Epoch 59: ReduceLROnPlateau reducing learning rate to 0.0002500000118743628.\n",
      "9/9 [==============================] - 0s 23ms/step - loss: 0.5846 - acc: 0.7107 - val_loss: 0.5426 - val_acc: 0.7333 - lr: 5.0000e-04\n",
      "Epoch 60/500\n",
      "9/9 [==============================] - 0s 17ms/step - loss: 0.5844 - acc: 0.7107 - val_loss: 0.5425 - val_acc: 0.7333 - lr: 2.5000e-04\n",
      "Epoch 61/500\n",
      "9/9 [==============================] - 0s 15ms/step - loss: 0.5845 - acc: 0.7107 - val_loss: 0.5425 - val_acc: 0.7333 - lr: 2.5000e-04\n",
      "Epoch 62/500\n",
      "9/9 [==============================] - 0s 15ms/step - loss: 0.5844 - acc: 0.7107 - val_loss: 0.5424 - val_acc: 0.7333 - lr: 2.5000e-04\n",
      "Epoch 63/500\n",
      "9/9 [==============================] - 0s 14ms/step - loss: 0.5843 - acc: 0.7107 - val_loss: 0.5424 - val_acc: 0.7333 - lr: 2.5000e-04\n",
      "Epoch 64/500\n",
      "9/9 [==============================] - 0s 18ms/step - loss: 0.5843 - acc: 0.7107 - val_loss: 0.5424 - val_acc: 0.7333 - lr: 2.5000e-04\n",
      "Epoch 65/500\n",
      "9/9 [==============================] - 0s 19ms/step - loss: 0.5842 - acc: 0.7107 - val_loss: 0.5423 - val_acc: 0.7333 - lr: 2.5000e-04\n",
      "Epoch 66/500\n",
      "1/9 [==>...........................] - ETA: 0s - loss: 0.5419 - acc: 0.7812\n",
      "Epoch 66: ReduceLROnPlateau reducing learning rate to 0.0001250000059371814.\n",
      "9/9 [==============================] - 0s 13ms/step - loss: 0.5842 - acc: 0.7143 - val_loss: 0.5423 - val_acc: 0.7333 - lr: 2.5000e-04\n",
      "Epoch 67/500\n",
      "9/9 [==============================] - 0s 12ms/step - loss: 0.5840 - acc: 0.7107 - val_loss: 0.5423 - val_acc: 0.7333 - lr: 1.2500e-04\n",
      "Epoch 68/500\n",
      "9/9 [==============================] - 0s 12ms/step - loss: 0.5840 - acc: 0.7107 - val_loss: 0.5423 - val_acc: 0.7333 - lr: 1.2500e-04\n",
      "Epoch 69/500\n",
      "1/9 [==>...........................] - ETA: 0s - loss: 0.6020 - acc: 0.6250\n",
      "Epoch 69: ReduceLROnPlateau reducing learning rate to 0.0001.\n",
      "9/9 [==============================] - 0s 16ms/step - loss: 0.5840 - acc: 0.7107 - val_loss: 0.5423 - val_acc: 0.7333 - lr: 1.2500e-04\n",
      "Epoch 70/500\n",
      "9/9 [==============================] - 0s 21ms/step - loss: 0.5839 - acc: 0.7107 - val_loss: 0.5423 - val_acc: 0.7333 - lr: 1.0000e-04\n",
      "Epoch 71/500\n",
      "9/9 [==============================] - 0s 15ms/step - loss: 0.5839 - acc: 0.7107 - val_loss: 0.5424 - val_acc: 0.7333 - lr: 1.0000e-04\n",
      "Epoch 72/500\n",
      "9/9 [==============================] - 0s 31ms/step - loss: 0.5839 - acc: 0.7107 - val_loss: 0.5423 - val_acc: 0.7333 - lr: 1.0000e-04\n",
      "Epoch 72: early stopping\n"
     ]
    }
   ],
   "source": [
    "result = model.fit(x_train, y_train, epochs = 500, validation_data = (x_test, y_test), callbacks = [\n",
    "    EarlyStopping(monitor = 'val_loss', patience=5, verbose = 1),\n",
    "    ReduceLROnPlateau(monitor= \"val_loss\", patience=3, factor = 0.5, min_lr=0.0001, verbose=1)\n",
    "])"
   ]
  },
  {
   "cell_type": "markdown",
   "metadata": {},
   "source": [
    "## #08. 학습 결과 적용"
   ]
  },
  {
   "cell_type": "markdown",
   "metadata": {},
   "source": [
    "### 훈련 데이터에 대한 예측 결과 산정\n",
    "\n",
    "> 데이터가 0하고 1일 경우 결과 값이 1일 확률"
   ]
  },
  {
   "cell_type": "code",
   "execution_count": 18,
   "metadata": {},
   "outputs": [
    {
     "name": "stdout",
     "output_type": "stream",
     "text": [
      "9/9 [==============================] - 0s 7ms/step\n",
      "280개의 훈련 데이터가 1개의 경우의 수를 갖는다.\n",
      "[[0.38484594]\n",
      " [0.53498065]\n",
      " [0.1372822 ]\n",
      " [0.2225482 ]\n",
      " [0.12923858]\n",
      " [0.1470468 ]\n",
      " [0.46153998]\n",
      " [0.5031493 ]\n",
      " [0.30865157]\n",
      " [0.3918956 ]\n",
      " [0.3050749 ]\n",
      " [0.37078637]\n",
      " [0.42849338]\n",
      " [0.279384  ]\n",
      " [0.1835221 ]\n",
      " [0.46143046]\n",
      " [0.22879544]\n",
      " [0.45174426]\n",
      " [0.5710997 ]\n",
      " [0.483962  ]\n",
      " [0.3336198 ]\n",
      " [0.5080202 ]\n",
      " [0.31932196]\n",
      " [0.14071338]\n",
      " [0.35477647]\n",
      " [0.37023795]\n",
      " [0.46279293]\n",
      " [0.32497403]\n",
      " [0.44914922]\n",
      " [0.46250325]\n",
      " [0.3436618 ]\n",
      " [0.4621363 ]\n",
      " [0.3367397 ]\n",
      " [0.22963569]\n",
      " [0.36711356]\n",
      " [0.25991452]\n",
      " [0.17375879]\n",
      " [0.09761123]\n",
      " [0.3349118 ]\n",
      " [0.42077637]\n",
      " [0.42267102]\n",
      " [0.1462435 ]\n",
      " [0.43838635]\n",
      " [0.31171733]\n",
      " [0.27557772]\n",
      " [0.44669437]\n",
      " [0.10441131]\n",
      " [0.28301638]\n",
      " [0.43595883]\n",
      " [0.15610664]\n",
      " [0.4422957 ]\n",
      " [0.3457702 ]\n",
      " [0.42272872]\n",
      " [0.16824791]\n",
      " [0.44792616]\n",
      " [0.51419395]\n",
      " [0.34614065]\n",
      " [0.4422957 ]\n",
      " [0.17735271]\n",
      " [0.29827127]\n",
      " [0.358682  ]\n",
      " [0.41515687]\n",
      " [0.27201608]\n",
      " [0.33369765]\n",
      " [0.20150949]\n",
      " [0.21784793]\n",
      " [0.46287033]\n",
      " [0.2643609 ]\n",
      " [0.16193826]\n",
      " [0.34040472]\n",
      " [0.3139693 ]\n",
      " [0.24093719]\n",
      " [0.3447235 ]\n",
      " [0.27317756]\n",
      " [0.4796601 ]\n",
      " [0.44864723]\n",
      " [0.43595883]\n",
      " [0.44472834]\n",
      " [0.4968829 ]\n",
      " [0.33273265]\n",
      " [0.44698873]\n",
      " [0.30412003]\n",
      " [0.16830258]\n",
      " [0.16408685]\n",
      " [0.33312073]\n",
      " [0.22391503]\n",
      " [0.29340506]\n",
      " [0.49541488]\n",
      " [0.14686078]\n",
      " [0.5524882 ]\n",
      " [0.45531136]\n",
      " [0.11810345]\n",
      " [0.14975162]\n",
      " [0.31881937]\n",
      " [0.45523942]\n",
      " [0.29582873]\n",
      " [0.46841666]\n",
      " [0.5891863 ]\n",
      " [0.24484451]\n",
      " [0.47486782]\n",
      " [0.34279028]\n",
      " [0.1812084 ]\n",
      " [0.45830774]\n",
      " [0.46487865]\n",
      " [0.51580507]\n",
      " [0.25345418]\n",
      " [0.27026454]\n",
      " [0.27969417]\n",
      " [0.17333135]\n",
      " [0.12400422]\n",
      " [0.49407554]\n",
      " [0.34713522]\n",
      " [0.39420676]\n",
      " [0.47529617]\n",
      " [0.42820355]\n",
      " [0.19867873]\n",
      " [0.14019099]\n",
      " [0.32564622]\n",
      " [0.32493207]\n",
      " [0.10950311]\n",
      " [0.14527337]\n",
      " [0.23991242]\n",
      " [0.4464521 ]\n",
      " [0.32326356]\n",
      " [0.16066447]\n",
      " [0.42985252]\n",
      " [0.37219623]\n",
      " [0.23889141]\n",
      " [0.32454953]\n",
      " [0.12747811]\n",
      " [0.25367594]\n",
      " [0.36671215]\n",
      " [0.4532075 ]\n",
      " [0.19564879]\n",
      " [0.21288961]\n",
      " [0.25645837]\n",
      " [0.12193055]\n",
      " [0.28329554]\n",
      " [0.2588381 ]\n",
      " [0.22134116]\n",
      " [0.07058594]\n",
      " [0.31738335]\n",
      " [0.27093613]\n",
      " [0.31909537]\n",
      " [0.14581382]\n",
      " [0.52232826]\n",
      " [0.29043204]\n",
      " [0.33777553]\n",
      " [0.18493591]\n",
      " [0.55707   ]\n",
      " [0.43468264]\n",
      " [0.45349753]\n",
      " [0.07441901]\n",
      " [0.4579761 ]\n",
      " [0.43873537]\n",
      " [0.22011134]\n",
      " [0.38934368]\n",
      " [0.38054767]\n",
      " [0.37538373]\n",
      " [0.4387529 ]\n",
      " [0.353353  ]\n",
      " [0.30325487]\n",
      " [0.49665603]\n",
      " [0.45836025]\n",
      " [0.04560654]\n",
      " [0.39732188]\n",
      " [0.47703424]\n",
      " [0.14372697]\n",
      " [0.31802717]\n",
      " [0.39610672]\n",
      " [0.5030428 ]\n",
      " [0.21873601]\n",
      " [0.32385892]\n",
      " [0.3777033 ]\n",
      " [0.19843511]\n",
      " [0.21095325]\n",
      " [0.39167014]\n",
      " [0.21393937]\n",
      " [0.47084025]\n",
      " [0.27500454]\n",
      " [0.3258249 ]\n",
      " [0.43753788]\n",
      " [0.2116862 ]\n",
      " [0.20284528]\n",
      " [0.18092678]\n",
      " [0.44031623]\n",
      " [0.196879  ]\n",
      " [0.1990133 ]\n",
      " [0.24185608]\n",
      " [0.18893321]\n",
      " [0.30894718]\n",
      " [0.3727931 ]\n",
      " [0.5090914 ]\n",
      " [0.38529864]\n",
      " [0.24208735]\n",
      " [0.17273204]\n",
      " [0.17266966]\n",
      " [0.16810118]\n",
      " [0.34348324]\n",
      " [0.47486782]\n",
      " [0.25741014]\n",
      " [0.4598552 ]\n",
      " [0.42474565]\n",
      " [0.3300092 ]\n",
      " [0.23287147]\n",
      " [0.44583198]\n",
      " [0.12437589]\n",
      " [0.20357199]\n",
      " [0.3624633 ]\n",
      " [0.07071834]\n",
      " [0.3023975 ]\n",
      " [0.35568747]\n",
      " [0.45869872]\n",
      " [0.5226033 ]\n",
      " [0.49805155]\n",
      " [0.1471557 ]\n",
      " [0.2823532 ]\n",
      " [0.33720776]\n",
      " [0.4486639 ]\n",
      " [0.24506971]\n",
      " [0.12653416]\n",
      " [0.34279028]\n",
      " [0.3667547 ]\n",
      " [0.4176038 ]\n",
      " [0.34437862]\n",
      " [0.37453598]\n",
      " [0.33145157]\n",
      " [0.45090315]\n",
      " [0.44785833]\n",
      " [0.38106486]\n",
      " [0.48728886]\n",
      " [0.32117966]\n",
      " [0.43346563]\n",
      " [0.27760172]\n",
      " [0.16937394]\n",
      " [0.4476514 ]\n",
      " [0.3354154 ]\n",
      " [0.5239579 ]\n",
      " [0.4505876 ]\n",
      " [0.23889965]\n",
      " [0.3795702 ]\n",
      " [0.3151204 ]\n",
      " [0.45155537]\n",
      " [0.6305296 ]\n",
      " [0.3102967 ]\n",
      " [0.26526543]\n",
      " [0.38108367]\n",
      " [0.55707   ]\n",
      " [0.1242196 ]\n",
      " [0.4361931 ]\n",
      " [0.31402418]\n",
      " [0.14023341]\n",
      " [0.13275655]\n",
      " [0.19417119]\n",
      " [0.3224893 ]\n",
      " [0.13744414]\n",
      " [0.26316032]\n",
      " [0.3290769 ]\n",
      " [0.24817228]\n",
      " [0.38505667]\n",
      " [0.46203935]\n",
      " [0.3336198 ]\n",
      " [0.5555122 ]\n",
      " [0.14598426]\n",
      " [0.3577365 ]\n",
      " [0.40410438]\n",
      " [0.47931635]\n",
      " [0.30426714]\n",
      " [0.20128901]\n",
      " [0.23650172]\n",
      " [0.4584086 ]\n",
      " [0.250964  ]\n",
      " [0.35124242]\n",
      " [0.23976746]\n",
      " [0.50439954]\n",
      " [0.05919727]\n",
      " [0.43598258]\n",
      " [0.16824791]\n",
      " [0.45909232]\n",
      " [0.35440755]]\n"
     ]
    }
   ],
   "source": [
    "train_pred = model.predict(x_train)\n",
    "data_count, case_count = train_pred.shape\n",
    "print(\"%d개의 훈련 데이터가 %d개의 경우의 수를 갖는다.\" % (data_count, case_count))\n",
    "print(train_pred)"
   ]
  },
  {
   "cell_type": "markdown",
   "metadata": {},
   "source": [
    "### 검증 데이터에 대한 예측 결과 산정"
   ]
  },
  {
   "cell_type": "code",
   "execution_count": 20,
   "metadata": {},
   "outputs": [
    {
     "name": "stdout",
     "output_type": "stream",
     "text": [
      "4/4 [==============================] - 0s 6ms/step\n",
      "120개의 검증 데이터가 1개의 경우의 수를 갖는다.\n"
     ]
    }
   ],
   "source": [
    "test_pred = model.predict(x_test)\n",
    "data_count, case_count = test_pred.shape\n",
    "print(\"%d개의 검증 데이터가 %d개의 경우의 수를 갖는다.\" % (data_count, case_count))\n",
    "# print(test_pred)"
   ]
  },
  {
   "cell_type": "markdown",
   "metadata": {},
   "source": [
    "### 결과 데이터 셋 구성"
   ]
  },
  {
   "cell_type": "code",
   "execution_count": 21,
   "metadata": {},
   "outputs": [
    {
     "data": {
      "text/html": [
       "<div>\n",
       "<style scoped>\n",
       "    .dataframe tbody tr th:only-of-type {\n",
       "        vertical-align: middle;\n",
       "    }\n",
       "\n",
       "    .dataframe tbody tr th {\n",
       "        vertical-align: top;\n",
       "    }\n",
       "\n",
       "    .dataframe thead th {\n",
       "        text-align: right;\n",
       "    }\n",
       "</style>\n",
       "<table border=\"1\" class=\"dataframe\">\n",
       "  <thead>\n",
       "    <tr style=\"text-align: right;\">\n",
       "      <th></th>\n",
       "      <th>결과값</th>\n",
       "      <th>예측치</th>\n",
       "      <th>합격확률(%)</th>\n",
       "    </tr>\n",
       "  </thead>\n",
       "  <tbody>\n",
       "    <tr>\n",
       "      <th>0</th>\n",
       "      <td>1</td>\n",
       "      <td>0.0</td>\n",
       "      <td>38.500000</td>\n",
       "    </tr>\n",
       "    <tr>\n",
       "      <th>1</th>\n",
       "      <td>1</td>\n",
       "      <td>1.0</td>\n",
       "      <td>53.500000</td>\n",
       "    </tr>\n",
       "    <tr>\n",
       "      <th>2</th>\n",
       "      <td>1</td>\n",
       "      <td>0.0</td>\n",
       "      <td>13.700000</td>\n",
       "    </tr>\n",
       "    <tr>\n",
       "      <th>3</th>\n",
       "      <td>0</td>\n",
       "      <td>0.0</td>\n",
       "      <td>22.299999</td>\n",
       "    </tr>\n",
       "    <tr>\n",
       "      <th>4</th>\n",
       "      <td>0</td>\n",
       "      <td>0.0</td>\n",
       "      <td>12.900000</td>\n",
       "    </tr>\n",
       "    <tr>\n",
       "      <th>...</th>\n",
       "      <td>...</td>\n",
       "      <td>...</td>\n",
       "      <td>...</td>\n",
       "    </tr>\n",
       "    <tr>\n",
       "      <th>275</th>\n",
       "      <td>0</td>\n",
       "      <td>0.0</td>\n",
       "      <td>5.900000</td>\n",
       "    </tr>\n",
       "    <tr>\n",
       "      <th>276</th>\n",
       "      <td>0</td>\n",
       "      <td>0.0</td>\n",
       "      <td>43.599998</td>\n",
       "    </tr>\n",
       "    <tr>\n",
       "      <th>277</th>\n",
       "      <td>0</td>\n",
       "      <td>0.0</td>\n",
       "      <td>16.799999</td>\n",
       "    </tr>\n",
       "    <tr>\n",
       "      <th>278</th>\n",
       "      <td>1</td>\n",
       "      <td>0.0</td>\n",
       "      <td>45.900002</td>\n",
       "    </tr>\n",
       "    <tr>\n",
       "      <th>279</th>\n",
       "      <td>0</td>\n",
       "      <td>0.0</td>\n",
       "      <td>35.400002</td>\n",
       "    </tr>\n",
       "  </tbody>\n",
       "</table>\n",
       "<p>280 rows × 3 columns</p>\n",
       "</div>"
      ],
      "text/plain": [
       "    결과값  예측치    합격확률(%)\n",
       "0     1  0.0  38.500000\n",
       "1     1  1.0  53.500000\n",
       "2     1  0.0  13.700000\n",
       "3     0  0.0  22.299999\n",
       "4     0  0.0  12.900000\n",
       "..   ..  ...        ...\n",
       "275   0  0.0   5.900000\n",
       "276   0  0.0  43.599998\n",
       "277   0  0.0  16.799999\n",
       "278   1  0.0  45.900002\n",
       "279   0  0.0  35.400002\n",
       "\n",
       "[280 rows x 3 columns]"
      ]
     },
     "execution_count": 21,
     "metadata": {},
     "output_type": "execute_result"
    }
   ],
   "source": [
    "kdf = DataFrame({\n",
    "    '결과값': y_train['합격여부'].values,\n",
    "    '예측치' : np.round(train_pred.flatten()),\n",
    "    '합격확률(%)': np.round(train_pred.flatten() * 100, 1)\n",
    "})\n",
    "\n",
    "kdf"
   ]
  },
  {
   "cell_type": "markdown",
   "metadata": {},
   "source": [
    "### 혼동행렬"
   ]
  },
  {
   "cell_type": "code",
   "execution_count": 22,
   "metadata": {},
   "outputs": [
    {
     "name": "stdout",
     "output_type": "stream",
     "text": [
      "185 4 77 14\n"
     ]
    },
    {
     "data": {
      "text/html": [
       "<div>\n",
       "<style scoped>\n",
       "    .dataframe tbody tr th:only-of-type {\n",
       "        vertical-align: middle;\n",
       "    }\n",
       "\n",
       "    .dataframe tbody tr th {\n",
       "        vertical-align: top;\n",
       "    }\n",
       "\n",
       "    .dataframe thead th {\n",
       "        text-align: right;\n",
       "    }\n",
       "</style>\n",
       "<table border=\"1\" class=\"dataframe\">\n",
       "  <thead>\n",
       "    <tr style=\"text-align: right;\">\n",
       "      <th></th>\n",
       "      <th>Negative</th>\n",
       "      <th>Positive</th>\n",
       "    </tr>\n",
       "  </thead>\n",
       "  <tbody>\n",
       "    <tr>\n",
       "      <th>True</th>\n",
       "      <td>185</td>\n",
       "      <td>77</td>\n",
       "    </tr>\n",
       "    <tr>\n",
       "      <th>False</th>\n",
       "      <td>4</td>\n",
       "      <td>14</td>\n",
       "    </tr>\n",
       "  </tbody>\n",
       "</table>\n",
       "</div>"
      ],
      "text/plain": [
       "       Negative  Positive\n",
       "True        185        77\n",
       "False         4        14"
      ]
     },
     "execution_count": 22,
     "metadata": {},
     "output_type": "execute_result"
    }
   ],
   "source": [
    "cm = confusion_matrix(kdf['결과값'], kdf['예측치'])\n",
    "tn, fp, fn, tp = cm.ravel()\n",
    "print(tn, fp, fn, tp)\n",
    "cmdf1 = DataFrame([[tn, fn], [fp, tp]], index=['True', 'False'], columns=['Negative', 'Positive'])\n",
    "cmdf1"
   ]
  },
  {
   "cell_type": "markdown",
   "metadata": {},
   "source": [
    "#### DF 설명\n",
    "\n",
    "| | Negative|Positive|\n",
    "|--|--|--|\n",
    "| True | TN | FP |\n",
    "| False | FN | TP |\n",
    "\n",
    "#### 각 항목의 의미\n",
    "\n",
    "| 구분 | 설명 |\n",
    "|--|--|\n",
    "| TN(True Negative, Negative Negative) | 실제는 Negative인데, Negative로 예측함. |\n",
    "| FP(False Positive, Negative Positive) | 실제는 Negative인데, Positive로 예측함. (Type1 Error) |\n",
    "| FN(False Negative, Positive Negative) | 실제는 Positive인데, Negative로 예측함. (Type2 Error) |\n",
    "| TP(True Positive, Positive Positive) | 실제는 Positive인데, Positive로 예측함. |"
   ]
  },
  {
   "cell_type": "code",
   "execution_count": 23,
   "metadata": {},
   "outputs": [
    {
     "data": {
      "image/png": "[encoded data removed]",
      "text/plain": [
       "<Figure size 500x300 with 2 Axes>"
      ]
     },
     "metadata": {},
     "output_type": "display_data"
    }
   ],
   "source": [
    "plt.figure(figsize=(5,3))\n",
    "# 오차 행렬을 히트맵 그래프로 표현\n",
    "# -> annot : 그래프의 각 칸에 수치값 출력\n",
    "# -> fmt : 수치값 출력 format (여기서는 10진수)\n",
    "# -> cmap : 색상맵 (<https://matplotlib.org/3.2.1/tutorials/colors/colormaps.html>)\n",
    "sb.heatmap(cm, annot = True, fmt = 'd',cmap = 'Blues')\n",
    "plt.xticks([0.5, 1.5], ['Negative', 'Positive'])\n",
    "plt.yticks([0.5, 1.5], ['True', 'False'])\n",
    "plt.xlabel('예측값')\n",
    "plt.ylabel('결과값')\n",
    "plt.show()"
   ]
  },
  {
   "cell_type": "markdown",
   "metadata": {},
   "source": [
    "### 평가지표"
   ]
  },
  {
   "cell_type": "code",
   "execution_count": 24,
   "metadata": {},
   "outputs": [
    {
     "data": {
      "image/png": "[encoded data removed]",
      "text/plain": [
       "<Figure size 1000x500 with 1 Axes>"
      ]
     },
     "metadata": {},
     "output_type": "display_data"
    }
   ],
   "source": [
    "ras = roc_auc_score(kdf['결과값'], kdf['예측치'])\n",
    "\n",
    "# 위양성율, 재현율, 임계값(사용안함)\n",
    "fpr, tpr, thresholds = roc_curve(kdf['결과값'], kdf['예측치'])\n",
    "\n",
    "plt.figure()\n",
    "sb.lineplot(x=fpr, y=tpr)\n",
    "sb.lineplot(x=[0,1], y=[0,1], color='red', linestyle=':', alpha=0.5)\n",
    "plt.title('AUC={:.4f}'.format(ras))\n",
    "plt.grid()\n",
    "plt.show()\n",
    "plt.close()"
   ]
  },
  {
   "cell_type": "markdown",
   "metadata": {},
   "source": [
    "> 푸른 선이 붉은 선과 멀리 떨어져야 고성능"
   ]
  },
  {
   "cell_type": "code",
   "execution_count": 25,
   "metadata": {},
   "outputs": [
    {
     "name": "stdout",
     "output_type": "stream",
     "text": [
      "+--------------------------+----------+\n",
      "|                          |        0 |\n",
      "|--------------------------+----------|\n",
      "| 정확도(Accuracy)         | 0.710714 |\n",
      "| 정밀도(Precision)        | 0.777778 |\n",
      "| 재현율(Recall, TPR)      | 0.153846 |\n",
      "| 위양성율(Fallout, FPR)   | 0.021164 |\n",
      "| 특이성(Specificity, TNR) | 0.978836 |\n",
      "| RAS                      | 0.566341 |\n",
      "| f1_score                 | 0.256881 |\n",
      "+--------------------------+----------+\n"
     ]
    }
   ],
   "source": [
    "# 정확도\n",
    "acc = accuracy_score(kdf['결과값'], kdf['예측치'])\n",
    "\n",
    "# 정밀도\n",
    "pre = precision_score(kdf['결과값'], kdf['예측치'])\n",
    "\n",
    "# 재현율\n",
    "recall = recall_score(kdf['결과값'], kdf['예측치'])\n",
    "\n",
    "# F1 score\n",
    "f1 = f1_score(kdf['결과값'], kdf['예측치'])\n",
    "\n",
    "# 위양성율\n",
    "fallout = fp / (fp + tn)\n",
    "\n",
    "# 특이성\n",
    "spe = 1 - fallout\n",
    "\n",
    "result_df = DataFrame({'정확도(Accuracy)':[acc], '정밀도(Precision)':[pre], '재현율(Recall, TPR)':[recall], '위양성율(Fallout, FPR)': [fallout], '특이성(Specificity, TNR)':[spe], 'RAS': [ras], 'f1_score':[f1]})\n",
    "\n",
    "helper.prettyPrint(result_df.T)"
   ]
  },
  {
   "cell_type": "markdown",
   "metadata": {},
   "source": [
    "### 분류 보고서\n",
    "\n",
    "- `precision` : 정밀도 (분류기가 참으로 분류한 항목 중에서 실제 데이터가 참인 비율)\n",
    "- `recall` : 재현율 (실제 참 중에서 분류기가 참으로 분류한 비율)\n",
    "- `f1-score` : 2*(Recall * Precision) / (Recall + Precision)\n",
    "    - Precision과 Recall의 조화평균\n",
    "    - 주로 분류 클래스 간 데이터가 심각한 불균형을 이루는 경우에 사용\n",
    "    - 정확도의 경우, 클래스가 데이터 분류가 균일하지 못하면 머신의 성능을 제대로 나타내줄 수 없기 때문에 F1을 사용한다.\n",
    "- `support` : 전체 데이터 수\n",
    "\n",
    "분류 보고서 작성 시 특정 부분에서 적절하게 분류하지 못하는(학습률이 떨어지는) 경우 발생 시 해당 부분의 데이터를 보완"
   ]
  },
  {
   "cell_type": "code",
   "execution_count": 26,
   "metadata": {},
   "outputs": [
    {
     "name": "stdout",
     "output_type": "stream",
     "text": [
      "              precision    recall  f1-score   support\n",
      "\n",
      "           0       0.71      0.98      0.82       189\n",
      "           1       0.78      0.15      0.26        91\n",
      "\n",
      "    accuracy                           0.71       280\n",
      "   macro avg       0.74      0.57      0.54       280\n",
      "weighted avg       0.73      0.71      0.64       280\n",
      "\n"
     ]
    }
   ],
   "source": [
    "report = classification_report(kdf['결과값'], kdf['예측치'])\n",
    "print(report)"
   ]
  },
  {
   "cell_type": "code",
   "execution_count": null,
   "metadata": {},
   "outputs": [],
   "source": []
  }
 ],
 "metadata": {
  "kernelspec": {
   "display_name": "Python 3",
   "language": "python",
   "name": "python3"
  },
  "language_info": {
   "codemirror_mode": {
    "name": "ipython",
    "version": 3
   },
   "file_extension": ".py",
   "mimetype": "text/x-python",
   "name": "python",
   "nbconvert_exporter": "python",
   "pygments_lexer": "ipython3",
   "version": "3.9.13"
  },
  "orig_nbformat": 4
 },
 "nbformat": 4,
 "nbformat_minor": 2
}
